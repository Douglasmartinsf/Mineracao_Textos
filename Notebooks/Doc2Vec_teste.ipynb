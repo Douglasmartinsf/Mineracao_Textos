{
 "cells": [
  {
   "cell_type": "markdown",
   "metadata": {},
   "source": [
    "# Carregamento dos dados"
   ]
  },
  {
   "cell_type": "code",
   "execution_count": 84,
   "metadata": {},
   "outputs": [
    {
     "data": {
      "text/html": [
       "<div>\n",
       "<style scoped>\n",
       "    .dataframe tbody tr th:only-of-type {\n",
       "        vertical-align: middle;\n",
       "    }\n",
       "\n",
       "    .dataframe tbody tr th {\n",
       "        vertical-align: top;\n",
       "    }\n",
       "\n",
       "    .dataframe thead th {\n",
       "        text-align: right;\n",
       "    }\n",
       "</style>\n",
       "<table border=\"1\" class=\"dataframe\">\n",
       "  <thead>\n",
       "    <tr style=\"text-align: right;\">\n",
       "      <th></th>\n",
       "      <th>reviewId</th>\n",
       "      <th>app_name</th>\n",
       "      <th>content</th>\n",
       "      <th>sentiment_polarity</th>\n",
       "      <th>sentiment</th>\n",
       "    </tr>\n",
       "  </thead>\n",
       "  <tbody>\n",
       "    <tr>\n",
       "      <th>0</th>\n",
       "      <td>01e23c15-44bf-46b7-b280-40e880d9d49b</td>\n",
       "      <td>Shopee</td>\n",
       "      <td>sopre razoável apesar fácil utilizar apresenta...</td>\n",
       "      <td>positive</td>\n",
       "      <td>sadness</td>\n",
       "    </tr>\n",
       "    <tr>\n",
       "      <th>1</th>\n",
       "      <td>df40ba7c-075d-48dc-b798-21466dfb41d6</td>\n",
       "      <td>Shopee</td>\n",
       "      <td>otimizar fácil visualizar produto pedido rastr...</td>\n",
       "      <td>positive</td>\n",
       "      <td>sadness</td>\n",
       "    </tr>\n",
       "    <tr>\n",
       "      <th>2</th>\n",
       "      <td>59490b23-b17b-4bba-855b-b5053dadc0db</td>\n",
       "      <td>Shopee</td>\n",
       "      <td>prático fácil entender vendedor mandar produto...</td>\n",
       "      <td>positive</td>\n",
       "      <td>sadness</td>\n",
       "    </tr>\n",
       "    <tr>\n",
       "      <th>3</th>\n",
       "      <td>48fd8168-1e42-4475-9a99-935c2fd48769</td>\n",
       "      <td>Shopee</td>\n",
       "      <td>aplicativo chatear fato pesquisar produto colo...</td>\n",
       "      <td>positive</td>\n",
       "      <td>sadness</td>\n",
       "    </tr>\n",
       "    <tr>\n",
       "      <th>4</th>\n",
       "      <td>f4e1468b-6d97-4f1a-927d-1afee2bfbe75</td>\n",
       "      <td>Shopee</td>\n",
       "      <td>ter dificuldade pagamento cartão crédito compr...</td>\n",
       "      <td>negative</td>\n",
       "      <td>disgust</td>\n",
       "    </tr>\n",
       "  </tbody>\n",
       "</table>\n",
       "</div>"
      ],
      "text/plain": [
       "                               reviewId app_name  \\\n",
       "0  01e23c15-44bf-46b7-b280-40e880d9d49b   Shopee   \n",
       "1  df40ba7c-075d-48dc-b798-21466dfb41d6   Shopee   \n",
       "2  59490b23-b17b-4bba-855b-b5053dadc0db   Shopee   \n",
       "3  48fd8168-1e42-4475-9a99-935c2fd48769   Shopee   \n",
       "4  f4e1468b-6d97-4f1a-927d-1afee2bfbe75   Shopee   \n",
       "\n",
       "                                             content sentiment_polarity  \\\n",
       "0  sopre razoável apesar fácil utilizar apresenta...           positive   \n",
       "1  otimizar fácil visualizar produto pedido rastr...           positive   \n",
       "2  prático fácil entender vendedor mandar produto...           positive   \n",
       "3  aplicativo chatear fato pesquisar produto colo...           positive   \n",
       "4  ter dificuldade pagamento cartão crédito compr...           negative   \n",
       "\n",
       "  sentiment  \n",
       "0   sadness  \n",
       "1   sadness  \n",
       "2   sadness  \n",
       "3   sadness  \n",
       "4   disgust  "
      ]
     },
     "execution_count": 84,
     "metadata": {},
     "output_type": "execute_result"
    }
   ],
   "source": [
    "import pandas as pd\n",
    "\n",
    "# Carregando os dados do arquivo CSV pré-processado em um DataFrame do pandas\n",
    "comentarios = pd.read_csv('../Data/content_pre_processado.csv')\n",
    "\n",
    "# Exibindo as primeiras 5 linhas do DataFrame para verificação\n",
    "comentarios.head(5)"
   ]
  },
  {
   "cell_type": "markdown",
   "metadata": {},
   "source": [
    "# Extração da features (representação de texto em formato vetorial)"
   ]
  },
  {
   "cell_type": "markdown",
   "metadata": {},
   "source": [
    "<p style=\"color:green\">A seguir, faremos a instanciação do método que fará a representação do texto usando Doc2Vec.</p> "
   ]
  },
  {
   "cell_type": "code",
   "execution_count": 85,
   "metadata": {},
   "outputs": [],
   "source": [
    "import gensim\n",
    "from gensim.models import Doc2Vec\n",
    "from gensim.models.doc2vec import TaggedDocument\n",
    "import nltk\n",
    "\n",
    "# Transformando os comentários em um formato adequado para o modelo Doc2Vec\n",
    "# TaggedDocument: Estrutura que associa um documento (lista de palavras) a uma etiqueta (tag)\n",
    "# Cada comentário é tokenizado e associado a um índice único\n",
    "comentarios_tagged = [TaggedDocument(words=nltk.word_tokenize(text), tags=[str(i)]) \n",
    "                      for i, text in enumerate(comentarios['content'])]\n",
    "\n",
    "# Criando e treinando o modelo Doc2Vec\n",
    "# vector_size=100: Tamanho dos vetores de saída\n",
    "# window=5: Tamanho da janela de contexto\n",
    "# min_count=2: Ignorar palavras que aparecem menos de 2 vezes\n",
    "# workers=4: Número de threads para treinamento\n",
    "# epochs=40: Número de épocas para treinamento\n",
    "doc2vec_model = Doc2Vec(vector_size=100, window=5, min_count=2, workers=4, epochs=40)\n",
    "doc2vec_model.build_vocab(comentarios_tagged) # Construindo o vocabulário do modelo\n",
    "doc2vec_model.train(comentarios_tagged, total_examples=doc2vec_model.corpus_count, epochs=doc2vec_model.epochs) # Treinando o modelo\n",
    "\n",
    "# Gerando vetores Doc2Vec para cada comentário\n",
    "# infer_vector: Gera um vetor para um novo documento com base no modelo treinado\n",
    "comentarios_vectors = [doc2vec_model.infer_vector(nltk.word_tokenize(text)) for text in comentarios['content']]"
   ]
  },
  {
   "cell_type": "code",
   "execution_count": 86,
   "metadata": {},
   "outputs": [],
   "source": [
    "import numpy as np\n",
    "from tensorflow.keras.models import Sequential\n",
    "from tensorflow.keras.layers import Dense, Dropout, Input\n",
    "from tensorflow.keras.utils import to_categorical\n",
    "from sklearn.model_selection import train_test_split\n",
    "from sklearn.preprocessing import LabelEncoder\n",
    "\n",
    "# Convertendo a lista de vetores Doc2Vec em uma matriz NumPy\n",
    "# X será uma matriz onde cada linha representa um vetor de documento\n",
    "X = np.array(comentarios_vectors)\n",
    "\n",
    "# Separando as variáveis alvo (rótulos) para polaridade e sentimento\n",
    "# y_polarity: Rótulos de polaridade do sentimento (positivo, negativo ou neutro)\n",
    "# y_sentiment: Rótulos de sentimento (Happiness, Surprise, Sadness, Neutral, Fear, Disgust, Anger)\n",
    "y_polarity = comentarios['sentiment_polarity'].values\n",
    "y_sentiment = comentarios['sentiment'].values"
   ]
  },
  {
   "cell_type": "markdown",
   "metadata": {},
   "source": [
    "<p style=\"color:green\">Codificação de sentiment e polarity</p> "
   ]
  },
  {
   "cell_type": "code",
   "execution_count": 87,
   "metadata": {},
   "outputs": [],
   "source": [
    "# Codificando as classes de polaridade de string para números inteiros\n",
    "# LabelEncoder converte as categorias de texto em números inteiros\n",
    "le_polarity = LabelEncoder()\n",
    "y_polarity_encoded = le_polarity.fit_transform(y_polarity)\n",
    "\n",
    "# Convertendo os rótulos inteiros para uma codificação one-hot\n",
    "# to_categorical transforma os rótulos inteiros em vetores binários\n",
    "y_polarity_categorical = to_categorical(y_polarity_encoded)\n",
    "\n",
    "# Codificando as classes de sentimento de string para números inteiros\n",
    "le_sentiment = LabelEncoder()\n",
    "y_sentiment_encoded = le_sentiment.fit_transform(y_sentiment)\n",
    "\n",
    "# Convertendo os rótulos inteiros para uma codificação one-hot\n",
    "y_sentiment_categorical = to_categorical(y_sentiment_encoded)"
   ]
  },
  {
   "cell_type": "markdown",
   "metadata": {},
   "source": [
    "# Treinamento e teste"
   ]
  },
  {
   "cell_type": "code",
   "execution_count": 88,
   "metadata": {},
   "outputs": [],
   "source": [
    "# Dividindo os dados para a tarefa de classificação de polaridade do sentimento\n",
    "# train_test_split: Divide o conjunto de dados em conjuntos de treino e teste\n",
    "# test_size=0.2: 20% dos dados serão usados para teste e 80% para treino\n",
    "# random_state=42: Define uma semente para garantir a reprodutibilidade\n",
    "X_train_polarity, X_test_polarity, y_train_polarity, y_test_polarity = train_test_split(X, y_polarity_categorical, test_size=0.2, random_state=42)\n",
    "\n",
    "# Dividindo os dados para a tarefa de classificação de sentimento\n",
    "# test_size=0.2: 20% dos dados serão usados para teste e 80% para treino\n",
    "# random_state=42: Define uma semente para garantir a reprodutibilidade\n",
    "X_train_sentiment, X_test_sentiment, y_train_sentiment, y_test_sentiment = train_test_split(X, y_sentiment_categorical, test_size=0.2, random_state=42)\n"
   ]
  },
  {
   "cell_type": "code",
   "execution_count": 89,
   "metadata": {},
   "outputs": [],
   "source": [
    "from tensorflow.keras.models import Sequential\n",
    "from tensorflow.keras.layers import Dense, Dropout, Input\n",
    "\n",
    "def create_model(input_shape, n_classes):\n",
    "    # Criando um modelo sequencial com Keras\n",
    "    model = Sequential([\n",
    "        Input(shape=input_shape), # Camada de entrada com a forma dos dados de entrada\n",
    "        Dense(128, activation='relu'), # Camada densa com 128 neurônios e ativação ReLU\n",
    "        Dropout(0.5), # Camada de Dropout para regularização, evita overfitting\n",
    "        Dense(64, activation='relu'), # Camada densa com 64 neurônios e ativação ReLU\n",
    "        Dense(n_classes, activation='softmax') # Camada de saída com número de classes, ativação softmax para problemas de classificação multiclasse\n",
    "    ])\n",
    "    # Compilando o modelo\n",
    "    # optimizer='adam': Otimizador Adam para ajustar os pesos do modelo\n",
    "    # loss='categorical_crossentropy': Função de perda para problemas de classificação multiclasse\n",
    "    # metrics=['accuracy']: Métrica para avaliar o desempenho do modelo\n",
    "    model.compile(optimizer='adam', loss='categorical_crossentropy', metrics=['accuracy'])\n",
    "    return model\n",
    "\n",
    "# Criar o modelo para a tarefa de classificação de sentimento\n",
    "# input_shape: Forma da entrada do modelo, que corresponde ao número de características dos vetores Doc2Vec\n",
    "# n_classes: Número de classes na tarefa de classificação de sentimento\n",
    "model_sentiment = create_model((X_train_sentiment.shape[1],), y_sentiment_categorical.shape[1])\n",
    "\n",
    "# Criar o modelo para a tarefa de classificação de polaridade\n",
    "# input_shape: Forma da entrada do modelo, que corresponde ao número de características dos vetores Doc2Vec\n",
    "# n_classes: Número de classes na tarefa de classificação de polaridade\n",
    "model_polarity = create_model((X_train_polarity.shape[1],), y_polarity_categorical.shape[1])"
   ]
  },
  {
   "cell_type": "code",
   "execution_count": 90,
   "metadata": {},
   "outputs": [
    {
     "name": "stdout",
     "output_type": "stream",
     "text": [
      "Epoch 1/10\n",
      "\u001b[1m76/76\u001b[0m \u001b[32m━━━━━━━━━━━━━━━━━━━━\u001b[0m\u001b[37m\u001b[0m \u001b[1m1s\u001b[0m 4ms/step - accuracy: 0.2975 - loss: 1.7143 - val_accuracy: 0.4651 - val_loss: 1.2891\n",
      "Epoch 2/10\n",
      "\u001b[1m76/76\u001b[0m \u001b[32m━━━━━━━━━━━━━━━━━━━━\u001b[0m\u001b[37m\u001b[0m \u001b[1m0s\u001b[0m 2ms/step - accuracy: 0.4795 - loss: 1.2804 - val_accuracy: 0.5116 - val_loss: 1.1875\n",
      "Epoch 3/10\n",
      "\u001b[1m76/76\u001b[0m \u001b[32m━━━━━━━━━━━━━━━━━━━━\u001b[0m\u001b[37m\u001b[0m \u001b[1m0s\u001b[0m 2ms/step - accuracy: 0.5408 - loss: 1.1645 - val_accuracy: 0.5365 - val_loss: 1.1561\n",
      "Epoch 4/10\n",
      "\u001b[1m76/76\u001b[0m \u001b[32m━━━━━━━━━━━━━━━━━━━━\u001b[0m\u001b[37m\u001b[0m \u001b[1m0s\u001b[0m 2ms/step - accuracy: 0.5553 - loss: 1.1151 - val_accuracy: 0.5349 - val_loss: 1.1500\n",
      "Epoch 5/10\n",
      "\u001b[1m76/76\u001b[0m \u001b[32m━━━━━━━━━━━━━━━━━━━━\u001b[0m\u001b[37m\u001b[0m \u001b[1m0s\u001b[0m 2ms/step - accuracy: 0.5633 - loss: 1.0992 - val_accuracy: 0.5349 - val_loss: 1.1557\n",
      "Epoch 6/10\n",
      "\u001b[1m76/76\u001b[0m \u001b[32m━━━━━━━━━━━━━━━━━━━━\u001b[0m\u001b[37m\u001b[0m \u001b[1m0s\u001b[0m 2ms/step - accuracy: 0.5717 - loss: 1.0794 - val_accuracy: 0.5332 - val_loss: 1.1624\n",
      "Epoch 7/10\n",
      "\u001b[1m76/76\u001b[0m \u001b[32m━━━━━━━━━━━━━━━━━━━━\u001b[0m\u001b[37m\u001b[0m \u001b[1m0s\u001b[0m 2ms/step - accuracy: 0.5944 - loss: 1.0514 - val_accuracy: 0.5415 - val_loss: 1.1502\n",
      "Epoch 8/10\n",
      "\u001b[1m76/76\u001b[0m \u001b[32m━━━━━━━━━━━━━━━━━━━━\u001b[0m\u001b[37m\u001b[0m \u001b[1m0s\u001b[0m 2ms/step - accuracy: 0.5868 - loss: 1.0480 - val_accuracy: 0.5365 - val_loss: 1.1539\n",
      "Epoch 9/10\n",
      "\u001b[1m76/76\u001b[0m \u001b[32m━━━━━━━━━━━━━━━━━━━━\u001b[0m\u001b[37m\u001b[0m \u001b[1m0s\u001b[0m 2ms/step - accuracy: 0.5942 - loss: 1.0225 - val_accuracy: 0.5365 - val_loss: 1.1593\n",
      "Epoch 10/10\n",
      "\u001b[1m76/76\u001b[0m \u001b[32m━━━━━━━━━━━━━━━━━━━━\u001b[0m\u001b[37m\u001b[0m \u001b[1m0s\u001b[0m 2ms/step - accuracy: 0.5986 - loss: 1.0105 - val_accuracy: 0.5282 - val_loss: 1.1759\n",
      "\u001b[1m19/19\u001b[0m \u001b[32m━━━━━━━━━━━━━━━━━━━━\u001b[0m\u001b[37m\u001b[0m \u001b[1m0s\u001b[0m 974us/step - accuracy: 0.4974 - loss: 1.2624\n",
      "Acurácia do modelo para sentiment: 52.82%\n"
     ]
    }
   ],
   "source": [
    "# Treinando o modelo para a tarefa de classificação de sentimento\n",
    "# epochs=10: Número de épocas para treinar o modelo (10 passes completos pelos dados de treinamento)\n",
    "# batch_size=32: Número de amostras por atualização do gradiente\n",
    "# validation_data=(X_test_sentiment, y_test_sentiment): Dados de validação usados para monitorar o desempenho do modelo durante o treinamento\n",
    "model_sentiment.fit(X_train_sentiment, y_train_sentiment, epochs=10, batch_size=32, validation_data=(X_test_sentiment, y_test_sentiment))\n",
    "\n",
    "# Avaliando o modelo treinado usando os dados de teste\n",
    "# O método evaluate retorna a perda e a precisão do modelo nos dados de teste\n",
    "loss, accuracy = model_sentiment.evaluate(X_test_sentiment, y_test_sentiment)\n",
    "# Imprimindo a precisão do modelo formatada como porcentagem\n",
    "print(f'Acurácia do modelo para sentiment: {accuracy*100:.2f}%')"
   ]
  },
  {
   "cell_type": "code",
   "execution_count": 91,
   "metadata": {},
   "outputs": [
    {
     "name": "stdout",
     "output_type": "stream",
     "text": [
      "\u001b[1m19/19\u001b[0m \u001b[32m━━━━━━━━━━━━━━━━━━━━\u001b[0m\u001b[37m\u001b[0m \u001b[1m0s\u001b[0m 3ms/step\n",
      "Classification Report for Sentiment:\n",
      "              precision    recall  f1-score   support\n",
      "\n",
      "       anger       0.53      0.63      0.58       158\n",
      "     disgust       0.54      0.42      0.47       179\n",
      "        fear       0.00      0.00      0.00         7\n",
      "   happiness       0.55      0.46      0.50        68\n",
      "     neutral       0.00      0.00      0.00        14\n",
      "     sadness       0.52      0.63      0.57       175\n",
      "    surprise       0.00      0.00      0.00         1\n",
      "\n",
      "    accuracy                           0.53       602\n",
      "   macro avg       0.31      0.31      0.30       602\n",
      "weighted avg       0.51      0.53      0.51       602\n",
      "\n"
     ]
    },
    {
     "name": "stderr",
     "output_type": "stream",
     "text": [
      "c:\\Users\\dougl\\OneDrive\\Desktop\\Mineracao_Textos\\venv\\lib\\site-packages\\sklearn\\metrics\\_classification.py:1531: UndefinedMetricWarning: Precision is ill-defined and being set to 0.0 in labels with no predicted samples. Use `zero_division` parameter to control this behavior.\n",
      "  _warn_prf(average, modifier, f\"{metric.capitalize()} is\", len(result))\n",
      "c:\\Users\\dougl\\OneDrive\\Desktop\\Mineracao_Textos\\venv\\lib\\site-packages\\sklearn\\metrics\\_classification.py:1531: UndefinedMetricWarning: Precision is ill-defined and being set to 0.0 in labels with no predicted samples. Use `zero_division` parameter to control this behavior.\n",
      "  _warn_prf(average, modifier, f\"{metric.capitalize()} is\", len(result))\n",
      "c:\\Users\\dougl\\OneDrive\\Desktop\\Mineracao_Textos\\venv\\lib\\site-packages\\sklearn\\metrics\\_classification.py:1531: UndefinedMetricWarning: Precision is ill-defined and being set to 0.0 in labels with no predicted samples. Use `zero_division` parameter to control this behavior.\n",
      "  _warn_prf(average, modifier, f\"{metric.capitalize()} is\", len(result))\n"
     ]
    }
   ],
   "source": [
    "from sklearn.metrics import classification_report\n",
    "import numpy as np\n",
    "\n",
    "# Gerar previsões para o conjunto de teste\n",
    "# model_sentiment.predict retorna as probabilidades previstas para cada classe\n",
    "# np.argmax é usado para converter essas probabilidades em classes, selecionando a classe com a maior probabilidade\n",
    "y_pred_sentiment = model_sentiment.predict(X_test_sentiment)\n",
    "y_pred_sentiment = np.argmax(y_pred_sentiment, axis=1)  # Convertendo probabilidades em classes\n",
    "\n",
    "# Convertendo os rótulos codificados de volta para os rótulos originais\n",
    "# np.argmax é usado para converter as previsões one-hot de volta para índices de classes\n",
    "# le_sentiment.inverse_transform converte os índices de volta para os rótulos de texto originais\n",
    "y_test_sentiment_original = le_sentiment.inverse_transform(np.argmax(y_test_sentiment, axis=1))\n",
    "y_pred_sentiment_original = le_sentiment.inverse_transform(y_pred_sentiment)\n",
    "\n",
    "# Gerar o relatório de classificação\n",
    "# classification_report fornece métricas de desempenho como precisão, recall e F1-score\n",
    "print(\"Classification Report for Sentiment:\")\n",
    "print(classification_report(y_test_sentiment_original, y_pred_sentiment_original))"
   ]
  },
  {
   "cell_type": "code",
   "execution_count": 92,
   "metadata": {},
   "outputs": [
    {
     "name": "stdout",
     "output_type": "stream",
     "text": [
      "\u001b[1m19/19\u001b[0m \u001b[32m━━━━━━━━━━━━━━━━━━━━\u001b[0m\u001b[37m\u001b[0m \u001b[1m0s\u001b[0m 944us/step\n"
     ]
    },
    {
     "data": {
      "image/png": "[encoded data removed]",
      "text/plain": [
       "<Figure size 640x480 with 1 Axes>"
      ]
     },
     "metadata": {},
     "output_type": "display_data"
    }
   ],
   "source": [
    "from sklearn.metrics import confusion_matrix\n",
    "import matplotlib.pyplot as plt\n",
    "import seaborn as sns\n",
    "\n",
    "# Gerar previsões para o conjunto de teste\n",
    "# model_sentiment.predict retorna as probabilidades previstas para cada classe\n",
    "# np.argmax é usado para converter essas probabilidades em classes, selecionando a classe com a maior probabilidade\n",
    "y_pred_sentiment = model_sentiment.predict(X_test_sentiment)\n",
    "y_pred_sentiment = np.argmax(y_pred_sentiment, axis=1)  # Convertendo probabilidades em classes\n",
    "\n",
    "# Obtendo os rótulos únicos para o sentimento, que serão usados nos eixos da matriz de confusão\n",
    "# le_sentiment.classes_ fornece os rótulos originais das classes\n",
    "sentiment_labels = le_sentiment.classes_\n",
    "\n",
    "# Calculando a matriz de confusão\n",
    "# confusion_matrix compara as previsões com os rótulos reais\n",
    "# np.argmax é usado para converter as previsões one-hot de volta para índices de classes\n",
    "# labels=range(len(sentiment_labels)) garante que todos os rótulos possíveis sejam incluídos na matriz\n",
    "cm_sentiment = confusion_matrix(np.argmax(y_test_sentiment, axis=1), y_pred_sentiment, labels=range(len(sentiment_labels)))\n",
    "\n",
    "# Criando um gráfico da matriz de confusão usando seaborn\n",
    "# sns.heatmap cria um mapa de calor da matriz de confusão\n",
    "sns.heatmap(cm_sentiment, square=True, annot=True, fmt='d', cmap='RdBu', cbar=False, \n",
    "            xticklabels=sentiment_labels,\n",
    "            yticklabels=sentiment_labels)\n",
    "\n",
    "plt.xlabel(\"Classe Real\")    # Rótulo do eixo x\n",
    "plt.ylabel(\"Classe Predita\") # Rótulo do eixo y\n",
    "plt.title(\"Matriz de Confusão para Sentiment\") # Título do gráfico\n",
    "plt.show() # Exibindo o gráfico\n"
   ]
  },
  {
   "cell_type": "code",
   "execution_count": 93,
   "metadata": {},
   "outputs": [
    {
     "name": "stdout",
     "output_type": "stream",
     "text": [
      "Epoch 1/10\n",
      "\u001b[1m76/76\u001b[0m \u001b[32m━━━━━━━━━━━━━━━━━━━━\u001b[0m\u001b[37m\u001b[0m \u001b[1m1s\u001b[0m 4ms/step - accuracy: 0.5627 - loss: 0.8685 - val_accuracy: 0.7409 - val_loss: 0.5930\n",
      "Epoch 2/10\n",
      "\u001b[1m76/76\u001b[0m \u001b[32m━━━━━━━━━━━━━━━━━━━━\u001b[0m\u001b[37m\u001b[0m \u001b[1m0s\u001b[0m 2ms/step - accuracy: 0.7614 - loss: 0.5799 - val_accuracy: 0.7824 - val_loss: 0.5650\n",
      "Epoch 3/10\n",
      "\u001b[1m76/76\u001b[0m \u001b[32m━━━━━━━━━━━━━━━━━━━━\u001b[0m\u001b[37m\u001b[0m \u001b[1m0s\u001b[0m 2ms/step - accuracy: 0.7686 - loss: 0.5556 - val_accuracy: 0.7741 - val_loss: 0.5726\n",
      "Epoch 4/10\n",
      "\u001b[1m76/76\u001b[0m \u001b[32m━━━━━━━━━━━━━━━━━━━━\u001b[0m\u001b[37m\u001b[0m \u001b[1m0s\u001b[0m 2ms/step - accuracy: 0.7921 - loss: 0.5151 - val_accuracy: 0.7724 - val_loss: 0.5772\n",
      "Epoch 5/10\n",
      "\u001b[1m76/76\u001b[0m \u001b[32m━━━━━━━━━━━━━━━━━━━━\u001b[0m\u001b[37m\u001b[0m \u001b[1m0s\u001b[0m 2ms/step - accuracy: 0.7884 - loss: 0.5173 - val_accuracy: 0.7807 - val_loss: 0.5750\n",
      "Epoch 6/10\n",
      "\u001b[1m76/76\u001b[0m \u001b[32m━━━━━━━━━━━━━━━━━━━━\u001b[0m\u001b[37m\u001b[0m \u001b[1m0s\u001b[0m 2ms/step - accuracy: 0.7920 - loss: 0.5073 - val_accuracy: 0.7807 - val_loss: 0.5706\n",
      "Epoch 7/10\n",
      "\u001b[1m76/76\u001b[0m \u001b[32m━━━━━━━━━━━━━━━━━━━━\u001b[0m\u001b[37m\u001b[0m \u001b[1m0s\u001b[0m 2ms/step - accuracy: 0.8091 - loss: 0.4786 - val_accuracy: 0.7691 - val_loss: 0.5907\n",
      "Epoch 8/10\n",
      "\u001b[1m76/76\u001b[0m \u001b[32m━━━━━━━━━━━━━━━━━━━━\u001b[0m\u001b[37m\u001b[0m \u001b[1m0s\u001b[0m 2ms/step - accuracy: 0.7914 - loss: 0.4898 - val_accuracy: 0.7757 - val_loss: 0.5876\n",
      "Epoch 9/10\n",
      "\u001b[1m76/76\u001b[0m \u001b[32m━━━━━━━━━━━━━━━━━━━━\u001b[0m\u001b[37m\u001b[0m \u001b[1m0s\u001b[0m 2ms/step - accuracy: 0.8276 - loss: 0.4504 - val_accuracy: 0.7741 - val_loss: 0.5944\n",
      "Epoch 10/10\n",
      "\u001b[1m76/76\u001b[0m \u001b[32m━━━━━━━━━━━━━━━━━━━━\u001b[0m\u001b[37m\u001b[0m \u001b[1m0s\u001b[0m 2ms/step - accuracy: 0.8209 - loss: 0.4308 - val_accuracy: 0.7625 - val_loss: 0.5965\n",
      "\u001b[1m19/19\u001b[0m \u001b[32m━━━━━━━━━━━━━━━━━━━━\u001b[0m\u001b[37m\u001b[0m \u001b[1m0s\u001b[0m 972us/step - accuracy: 0.7567 - loss: 0.6151\n",
      "Acurácia do modelo para sentiment_polarity: 76.25%\n"
     ]
    }
   ],
   "source": [
    "# Treinar o modelo para a tarefa de classificação de polaridade\n",
    "# model_polarity.fit treina o modelo com os dados de treinamento para 'sentiment_polarity'\n",
    "# epochs=10: Número de épocas para treinar o modelo (10 passes completos pelos dados de treinamento)\n",
    "# batch_size=32: Número de amostras por atualização do gradiente\n",
    "# validation_data=(X_test_polarity, y_test_polarity): Dados de validação usados para monitorar o desempenho do modelo durante o treinamento\n",
    "model_polarity.fit(X_train_polarity, y_train_polarity, epochs=10, batch_size=32, validation_data=(X_test_polarity, y_test_polarity))\n",
    "\n",
    "# Avaliar o modelo treinado usando os dados de teste\n",
    "# O método evaluate retorna a perda e a precisão do modelo nos dados de teste\n",
    "loss, accuracy = model_polarity.evaluate(X_test_polarity, y_test_polarity)\n",
    "# Imprimindo a precisão do modelo formatada como porcentagem\n",
    "print(f'Acurácia do modelo para sentiment_polarity: {accuracy*100:.2f}%')"
   ]
  },
  {
   "cell_type": "code",
   "execution_count": 94,
   "metadata": {},
   "outputs": [
    {
     "name": "stdout",
     "output_type": "stream",
     "text": [
      "\u001b[1m19/19\u001b[0m \u001b[32m━━━━━━━━━━━━━━━━━━━━\u001b[0m\u001b[37m\u001b[0m \u001b[1m0s\u001b[0m 3ms/step \n",
      "Classification Report for Sentiment Polarity:\n",
      "              precision    recall  f1-score   support\n",
      "\n",
      "    negative       0.78      0.84      0.81       344\n",
      "     neutral       0.00      0.00      0.00        14\n",
      "    positive       0.73      0.69      0.71       244\n",
      "\n",
      "    accuracy                           0.76       602\n",
      "   macro avg       0.50      0.51      0.51       602\n",
      "weighted avg       0.74      0.76      0.75       602\n",
      "\n"
     ]
    },
    {
     "name": "stderr",
     "output_type": "stream",
     "text": [
      "c:\\Users\\dougl\\OneDrive\\Desktop\\Mineracao_Textos\\venv\\lib\\site-packages\\sklearn\\metrics\\_classification.py:1531: UndefinedMetricWarning: Precision is ill-defined and being set to 0.0 in labels with no predicted samples. Use `zero_division` parameter to control this behavior.\n",
      "  _warn_prf(average, modifier, f\"{metric.capitalize()} is\", len(result))\n",
      "c:\\Users\\dougl\\OneDrive\\Desktop\\Mineracao_Textos\\venv\\lib\\site-packages\\sklearn\\metrics\\_classification.py:1531: UndefinedMetricWarning: Precision is ill-defined and being set to 0.0 in labels with no predicted samples. Use `zero_division` parameter to control this behavior.\n",
      "  _warn_prf(average, modifier, f\"{metric.capitalize()} is\", len(result))\n",
      "c:\\Users\\dougl\\OneDrive\\Desktop\\Mineracao_Textos\\venv\\lib\\site-packages\\sklearn\\metrics\\_classification.py:1531: UndefinedMetricWarning: Precision is ill-defined and being set to 0.0 in labels with no predicted samples. Use `zero_division` parameter to control this behavior.\n",
      "  _warn_prf(average, modifier, f\"{metric.capitalize()} is\", len(result))\n"
     ]
    }
   ],
   "source": [
    "from sklearn.metrics import classification_report\n",
    "import numpy as np\n",
    "\n",
    "# Gerar previsões para o conjunto de teste\n",
    "# model_polarity.predict retorna as probabilidades previstas para cada classe\n",
    "# np.argmax é usado para converter essas probabilidades em classes, selecionando a classe com a maior probabilidade\n",
    "y_pred_polarity = model_polarity.predict(X_test_polarity)\n",
    "y_pred_polarity = np.argmax(y_pred_polarity, axis=1)  # Convertendo probabilidades em classes\n",
    "\n",
    "# Convertendo rótulos codificados de volta para os rótulos originais\n",
    "# np.argmax é usado para converter as previsões one-hot de volta para índices de classes\n",
    "# le_polarity.inverse_transform converte os índices de volta para os rótulos de texto originais\n",
    "y_test_polarity_original = le_polarity.inverse_transform(np.argmax(y_test_polarity, axis=1))\n",
    "y_pred_polarity_original = le_polarity.inverse_transform(y_pred_polarity)\n",
    "\n",
    "# Gerar o relatório de classificação\n",
    "print(\"Classification Report for Sentiment Polarity:\")\n",
    "print(classification_report(y_test_polarity_original, y_pred_polarity_original))"
   ]
  },
  {
   "cell_type": "code",
   "execution_count": 95,
   "metadata": {},
   "outputs": [
    {
     "name": "stdout",
     "output_type": "stream",
     "text": [
      "\u001b[1m19/19\u001b[0m \u001b[32m━━━━━━━━━━━━━━━━━━━━\u001b[0m\u001b[37m\u001b[0m \u001b[1m0s\u001b[0m 897us/step\n"
     ]
    },
    {
     "data": {
      "image/png": "[encoded data removed]",
      "text/plain": [
       "<Figure size 640x480 with 1 Axes>"
      ]
     },
     "metadata": {},
     "output_type": "display_data"
    }
   ],
   "source": [
    "from sklearn.metrics import confusion_matrix\n",
    "import matplotlib.pyplot as plt\n",
    "import seaborn as sns\n",
    "\n",
    "# Gerar previsões para o conjunto de teste\n",
    "# model_polarity.predict retorna as probabilidades previstas para cada classe\n",
    "# np.argmax é usado para converter essas probabilidades em classes, selecionando a classe com a maior probabilidade\n",
    "y_pred_polarity = model_polarity.predict(X_test_polarity)\n",
    "y_pred_polarity = np.argmax(y_pred_polarity, axis=1)  # Convertendo probabilidades em classes\n",
    "\n",
    "# Obtendo os rótulos únicos para polaridade, que serão usados nos eixos da matriz de confusão\n",
    "# le_polarity.classes_ fornece os rótulos originais das classes\n",
    "polarity_labels = le_polarity.classes_\n",
    "\n",
    "# Calculando a matriz de confusão\n",
    "# confusion_matrix compara as previsões com os rótulos reais\n",
    "# np.argmax é usado para converter os rótulos one-hot de volta para índices de classes\n",
    "# labels=range(len(polarity_labels)) garante que todos os rótulos possíveis sejam incluídos na matriz\n",
    "cm_polarity = confusion_matrix(np.argmax(y_test_polarity, axis=1), y_pred_polarity, labels=range(len(polarity_labels)))\n",
    "\n",
    "# Criando um gráfico da matriz de confusão usando seaborn\n",
    "# sns.heatmap cria um mapa de calor da matriz de confusão\n",
    "sns.heatmap(cm_polarity, square=True, annot=True, fmt='d', cmap='RdBu', cbar=False, \n",
    "            xticklabels=polarity_labels,\n",
    "            yticklabels=polarity_labels)\n",
    "\n",
    "plt.xlabel(\"Classe Real\")    # Rótulo do eixo x\n",
    "plt.ylabel(\"Classe Predita\") # Rótulo do eixo y\n",
    "plt.title(\"Matriz de Confusão para Polarity\") # Título do gráfico\n",
    "plt.show() # Exibindo o gráfico"
   ]
  },
  {
   "cell_type": "markdown",
   "metadata": {},
   "source": [
    "# Usando comentários de teste"
   ]
  },
  {
   "cell_type": "code",
   "execution_count": 96,
   "metadata": {},
   "outputs": [
    {
     "data": {
      "text/html": [
       "<div>\n",
       "<style scoped>\n",
       "    .dataframe tbody tr th:only-of-type {\n",
       "        vertical-align: middle;\n",
       "    }\n",
       "\n",
       "    .dataframe tbody tr th {\n",
       "        vertical-align: top;\n",
       "    }\n",
       "\n",
       "    .dataframe thead th {\n",
       "        text-align: right;\n",
       "    }\n",
       "</style>\n",
       "<table border=\"1\" class=\"dataframe\">\n",
       "  <thead>\n",
       "    <tr style=\"text-align: right;\">\n",
       "      <th></th>\n",
       "      <th>reviewId</th>\n",
       "      <th>app_name</th>\n",
       "      <th>content</th>\n",
       "      <th>sentiment_polarity</th>\n",
       "      <th>sentiment</th>\n",
       "    </tr>\n",
       "  </thead>\n",
       "  <tbody>\n",
       "    <tr>\n",
       "      <th>0</th>\n",
       "      <td>a12345f6-78g9-1011-h121-314151617181</td>\n",
       "      <td>YouTube</td>\n",
       "      <td>interface Youtube ficar confusa recomendação b...</td>\n",
       "      <td>negative</td>\n",
       "      <td>anger</td>\n",
       "    </tr>\n",
       "    <tr>\n",
       "      <th>1</th>\n",
       "      <td>b23456g7-89h0-1122-i131-415161718192</td>\n",
       "      <td>Netflix</td>\n",
       "      <td>catálogo netflix bom qualidade streaming incon...</td>\n",
       "      <td>positive</td>\n",
       "      <td>happiness</td>\n",
       "    </tr>\n",
       "    <tr>\n",
       "      <th>2</th>\n",
       "      <td>c34567h8-90i1-1233-j141-516171819203</td>\n",
       "      <td>Spotify</td>\n",
       "      <td>experiência spotify incrível quantidade propag...</td>\n",
       "      <td>positive</td>\n",
       "      <td>sadness</td>\n",
       "    </tr>\n",
       "  </tbody>\n",
       "</table>\n",
       "</div>"
      ],
      "text/plain": [
       "                               reviewId app_name  \\\n",
       "0  a12345f6-78g9-1011-h121-314151617181  YouTube   \n",
       "1  b23456g7-89h0-1122-i131-415161718192  Netflix   \n",
       "2  c34567h8-90i1-1233-j141-516171819203  Spotify   \n",
       "\n",
       "                                             content sentiment_polarity  \\\n",
       "0  interface Youtube ficar confusa recomendação b...           negative   \n",
       "1  catálogo netflix bom qualidade streaming incon...           positive   \n",
       "2  experiência spotify incrível quantidade propag...           positive   \n",
       "\n",
       "   sentiment  \n",
       "0      anger  \n",
       "1  happiness  \n",
       "2    sadness  "
      ]
     },
     "execution_count": 96,
     "metadata": {},
     "output_type": "execute_result"
    }
   ],
   "source": [
    "import pandas as pd\n",
    "\n",
    "# Carregando os dados do arquivo CSV pré-processado em um DataFrame do pandas\n",
    "comentarios_teste = pd.read_csv('../Data/teste_pre_processado.csv')\n",
    "\n",
    "# Exibindo as primeiras 5 linhas do DataFrame para verificação\n",
    "comentarios_teste.head(5)"
   ]
  },
  {
   "cell_type": "code",
   "execution_count": 97,
   "metadata": {},
   "outputs": [
    {
     "name": "stdout",
     "output_type": "stream",
     "text": [
      "                               reviewId app_name  \\\n",
      "0  a12345f6-78g9-1011-h121-314151617181  YouTube   \n",
      "1  b23456g7-89h0-1122-i131-415161718192  Netflix   \n",
      "2  c34567h8-90i1-1233-j141-516171819203  Spotify   \n",
      "\n",
      "                                             content sentiment_polarity  \\\n",
      "0  interface Youtube ficar confusa recomendação b...           negative   \n",
      "1  catálogo netflix bom qualidade streaming incon...           positive   \n",
      "2  experiência spotify incrível quantidade propag...           positive   \n",
      "\n",
      "   sentiment                                             tokens  \n",
      "0      anger  [interface, youtube, ficar, confusa, recomenda...  \n",
      "1  happiness  [catálogo, netflix, bom, qualidade, streaming,...  \n",
      "2    sadness  [experiência, spotify, incrível, quantidade, p...  \n"
     ]
    }
   ],
   "source": [
    "import pandas as pd\n",
    "import nltk\n",
    "from gensim.models import Doc2Vec\n",
    "\n",
    "# Verifica se o DataFrame contém a coluna 'content'\n",
    "if 'content' not in comentarios_teste.columns:\n",
    "    raise ValueError(\"O DataFrame não contém a coluna 'content'.\")\n",
    "\n",
    "# Tokenizar os textos do novo dataset\n",
    "comentarios_teste['tokens'] = comentarios_teste['content'].apply(lambda x: nltk.word_tokenize(x.lower()))  # Tokenização e normalização para minúsculas\n",
    "\n",
    "# Verifique se a coluna 'tokens' foi criada corretamente\n",
    "print(comentarios_teste.head())\n"
   ]
  },
  {
   "cell_type": "code",
   "execution_count": 98,
   "metadata": {},
   "outputs": [],
   "source": [
    "# Converter os textos tokenizados em vetores Doc2Vec\n",
    "comentarios_teste_vectors = [doc2vec_model.infer_vector(tokens) for tokens in comentarios_teste['tokens']]\n",
    "\n",
    "# Converter a lista de vetores Doc2Vec em uma matriz NumPy\n",
    "X_teste = np.array(comentarios_teste_vectors)"
   ]
  },
  {
   "cell_type": "code",
   "execution_count": 99,
   "metadata": {},
   "outputs": [
    {
     "name": "stdout",
     "output_type": "stream",
     "text": [
      "\u001b[1m1/1\u001b[0m \u001b[32m━━━━━━━━━━━━━━━━━━━━\u001b[0m\u001b[37m\u001b[0m \u001b[1m0s\u001b[0m 23ms/step\n"
     ]
    }
   ],
   "source": [
    "# Fazer previsões com o modelo treinado\n",
    "y_pred_sentiment_novos = model_sentiment.predict(X_teste)\n",
    "# Obtém as probabilidades para cada classe\n",
    "\n",
    "# Converter probabilidades em classes\n",
    "y_pred_sentiment_novos_classes = np.argmax(y_pred_sentiment_novos, axis=1)\n",
    "# Converte as probabilidades em classes\n",
    "\n",
    "# Converter índices de classes para etiquetas originais\n",
    "sentiment_labels_novos = le_sentiment.inverse_transform(y_pred_sentiment_novos_classes)\n",
    "# Converte os índices das classes de volta para as etiquetas originais\n",
    "\n",
    "# Adicionar as previsões ao DataFrame\n",
    "comentarios_teste['sentiment_predito'] = sentiment_labels_novos"
   ]
  },
  {
   "cell_type": "code",
   "execution_count": 100,
   "metadata": {},
   "outputs": [
    {
     "name": "stdout",
     "output_type": "stream",
     "text": [
      "\u001b[1m1/1\u001b[0m \u001b[32m━━━━━━━━━━━━━━━━━━━━\u001b[0m\u001b[37m\u001b[0m \u001b[1m0s\u001b[0m 25ms/step\n"
     ]
    }
   ],
   "source": [
    "# Fazer previsões com o modelo treinado\n",
    "y_pred_polarity_novos = model_polarity.predict(X_teste)\n",
    "y_pred_polarity_novos_classes = np.argmax(y_pred_polarity_novos, axis=1)\n",
    "\n",
    "# Converter índices de classes para as etiquetas originais\n",
    "polarity_labels_novos = le_polarity.inverse_transform(y_pred_polarity_novos_classes)\n",
    "comentarios_teste['polaridade_predita'] = polarity_labels_novos"
   ]
  },
  {
   "cell_type": "code",
   "execution_count": 101,
   "metadata": {},
   "outputs": [
    {
     "name": "stdout",
     "output_type": "stream",
     "text": [
      "                                             content sentiment_predito  \\\n",
      "0  interface Youtube ficar confusa recomendação b...         happiness   \n",
      "1  catálogo netflix bom qualidade streaming incon...         happiness   \n",
      "2  experiência spotify incrível quantidade propag...           sadness   \n",
      "\n",
      "  polaridade_predita  \n",
      "0           positive  \n",
      "1           positive  \n",
      "2           positive  \n"
     ]
    }
   ],
   "source": [
    "# Exibir o DataFrame com as previsões\n",
    "print(comentarios_teste[['content', 'sentiment_predito', 'polaridade_predita']])"
   ]
  },
  {
   "cell_type": "code",
   "execution_count": 112,
   "metadata": {},
   "outputs": [
    {
     "name": "stdout",
     "output_type": "stream",
     "text": [
      "\u001b[1m1/1\u001b[0m \u001b[32m━━━━━━━━━━━━━━━━━━━━\u001b[0m\u001b[37m\u001b[0m \u001b[1m0s\u001b[0m 24ms/step\n",
      "\u001b[1m1/1\u001b[0m \u001b[32m━━━━━━━━━━━━━━━━━━━━\u001b[0m\u001b[37m\u001b[0m \u001b[1m0s\u001b[0m 25ms/step\n",
      "Classification Report for Sentiment:\n",
      "              precision    recall  f1-score   support\n",
      "\n",
      "       anger       0.00      0.00      0.00         1\n",
      "   happiness       0.50      1.00      0.67         1\n",
      "     sadness       1.00      1.00      1.00         1\n",
      "\n",
      "    accuracy                           0.67         3\n",
      "   macro avg       0.50      0.67      0.56         3\n",
      "weighted avg       0.50      0.67      0.56         3\n",
      "\n",
      "Classification Report for Polarity:\n",
      "              precision    recall  f1-score   support\n",
      "\n",
      "    negative       0.00      0.00      0.00         1\n",
      "    positive       0.67      1.00      0.80         2\n",
      "\n",
      "    accuracy                           0.67         3\n",
      "   macro avg       0.33      0.50      0.40         3\n",
      "weighted avg       0.44      0.67      0.53         3\n",
      "\n"
     ]
    },
    {
     "name": "stderr",
     "output_type": "stream",
     "text": [
      "c:\\Users\\dougl\\OneDrive\\Desktop\\Mineracao_Textos\\venv\\lib\\site-packages\\sklearn\\metrics\\_classification.py:1531: UndefinedMetricWarning: Precision is ill-defined and being set to 0.0 in labels with no predicted samples. Use `zero_division` parameter to control this behavior.\n",
      "  _warn_prf(average, modifier, f\"{metric.capitalize()} is\", len(result))\n",
      "c:\\Users\\dougl\\OneDrive\\Desktop\\Mineracao_Textos\\venv\\lib\\site-packages\\sklearn\\metrics\\_classification.py:1531: UndefinedMetricWarning: Precision is ill-defined and being set to 0.0 in labels with no predicted samples. Use `zero_division` parameter to control this behavior.\n",
      "  _warn_prf(average, modifier, f\"{metric.capitalize()} is\", len(result))\n",
      "c:\\Users\\dougl\\OneDrive\\Desktop\\Mineracao_Textos\\venv\\lib\\site-packages\\sklearn\\metrics\\_classification.py:1531: UndefinedMetricWarning: Precision is ill-defined and being set to 0.0 in labels with no predicted samples. Use `zero_division` parameter to control this behavior.\n",
      "  _warn_prf(average, modifier, f\"{metric.capitalize()} is\", len(result))\n",
      "c:\\Users\\dougl\\OneDrive\\Desktop\\Mineracao_Textos\\venv\\lib\\site-packages\\sklearn\\metrics\\_classification.py:1531: UndefinedMetricWarning: Precision is ill-defined and being set to 0.0 in labels with no predicted samples. Use `zero_division` parameter to control this behavior.\n",
      "  _warn_prf(average, modifier, f\"{metric.capitalize()} is\", len(result))\n",
      "c:\\Users\\dougl\\OneDrive\\Desktop\\Mineracao_Textos\\venv\\lib\\site-packages\\sklearn\\metrics\\_classification.py:1531: UndefinedMetricWarning: Precision is ill-defined and being set to 0.0 in labels with no predicted samples. Use `zero_division` parameter to control this behavior.\n",
      "  _warn_prf(average, modifier, f\"{metric.capitalize()} is\", len(result))\n",
      "c:\\Users\\dougl\\OneDrive\\Desktop\\Mineracao_Textos\\venv\\lib\\site-packages\\sklearn\\metrics\\_classification.py:1531: UndefinedMetricWarning: Precision is ill-defined and being set to 0.0 in labels with no predicted samples. Use `zero_division` parameter to control this behavior.\n",
      "  _warn_prf(average, modifier, f\"{metric.capitalize()} is\", len(result))\n"
     ]
    }
   ],
   "source": [
    "from sklearn.metrics import classification_report\n",
    "import numpy as np\n",
    "\n",
    "# Fazer previsões com o modelo de polaridade para o novo dataset\n",
    "y_pred_polarity_novos = model_polarity.predict(X_teste)\n",
    "y_pred_polarity_novos_classes = np.argmax(y_pred_polarity_novos, axis=1)  # Convertendo probabilidades em classes\n",
    "\n",
    "# Fazer previsões com o modelo de sentimento para o novo dataset\n",
    "y_pred_sentiment_novos = model_sentiment.predict(X_teste)\n",
    "y_pred_sentiment_novos_classes = np.argmax(y_pred_sentiment_novos, axis=1)  # Convertendo probabilidades em classes\n",
    "\n",
    "# Converter índices das classes preditas para etiquetas originais\n",
    "sentiment_labels_novos = le_sentiment.inverse_transform(y_pred_sentiment_novos_classes)\n",
    "polarity_labels_novos = le_polarity.inverse_transform(y_pred_polarity_novos_classes)\n",
    "\n",
    "# Gerar o relatório de classificação para o novo dataset\n",
    "print(\"Classification Report for Sentiment:\")\n",
    "print(classification_report(comentarios_teste['sentiment'], sentiment_labels_novos))\n",
    "\n",
    "print(\"Classification Report for Polarity:\")\n",
    "print(classification_report(comentarios_teste['sentiment_polarity'], polarity_labels_novos))\n"
   ]
  }
 ],
 "metadata": {
  "kernelspec": {
   "display_name": "venv",
   "language": "python",
   "name": "python3"
  },
  "language_info": {
   "codemirror_mode": {
    "name": "ipython",
    "version": 3
   },
   "file_extension": ".py",
   "mimetype": "text/x-python",
   "name": "python",
   "nbconvert_exporter": "python",
   "pygments_lexer": "ipython3",
   "version": "3.10.11"
  }
 },
 "nbformat": 4,
 "nbformat_minor": 2
}
