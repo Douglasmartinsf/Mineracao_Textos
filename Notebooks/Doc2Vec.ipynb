{
 "cells": [
  {
   "cell_type": "markdown",
   "metadata": {},
   "source": [
    "# Carregamento dos dados"
   ]
  },
  {
   "cell_type": "code",
   "execution_count": 59,
   "metadata": {},
   "outputs": [],
   "source": [
    "import pandas as pd\n",
    "\n",
    "# Definindo o caminho para o arquivo CSV com os dados das análises de aplicativos\n",
    "file_path = '../Base/apps_reviews_validacao.xlsx - apps_reviews.csv'\n",
    "\n",
    "# Carregando os dados do arquivo CSV em um DataFrame do pandas\n",
    "# Usecols: Especifica as colunas a serem carregadas do arquivo\n",
    "# 'reviewId', 'app_name', 'content', 'sentiment_polarity', 'sentiment' são as colunas selecionadas\n",
    "# A última coluna nula é ignorada\n",
    "comentarios = pd.read_csv(file_path, usecols=['reviewId', 'app_name', 'content', 'sentiment_polarity', 'sentiment'])"
   ]
  },
  {
   "cell_type": "markdown",
   "metadata": {},
   "source": [
    "# Pré-processamento"
   ]
  },
  {
   "cell_type": "code",
   "execution_count": 60,
   "metadata": {},
   "outputs": [],
   "source": [
    "import sys\n",
    "import os\n",
    "\n",
    "# Adicionando um diretório ao caminho de busca de módulos do Python\n",
    "# os.path.abspath(os.path.join('..', 'lib')): Cria o caminho absoluto para o diretório 'lib' que está um nível acima do diretório atual\n",
    "# sys.path.append(): Adiciona o diretório especificado ao caminho de busca de módulos, permitindo importar módulos localizados nesse diretório\n",
    "sys.path.append(os.path.abspath(os.path.join('..', 'lib')))"
   ]
  },
  {
   "cell_type": "markdown",
   "metadata": {},
   "source": [
    "<p style=\"color:green\">Usar função criada para pré-processamento.</p> "
   ]
  },
  {
   "cell_type": "code",
   "execution_count": 61,
   "metadata": {},
   "outputs": [],
   "source": [
    "import pre_processamento as pp\n",
    "\n",
    "# Chamando a função 'pre_processar_dataframe' do módulo 'pre_processamento'\n",
    "# A função é usada para pré-processar a coluna 'content' do DataFrame 'comentarios'\n",
    "# Executa todas operações de limpeza contidos em Base/Base_trabalho_final.ipynb\n",
    "comentarios = pp.pre_processar_dataframe(comentarios, 'content')"
   ]
  },
  {
   "cell_type": "markdown",
   "metadata": {},
   "source": [
    "# Extração da features (representação de texto em formato vetorial)"
   ]
  },
  {
   "cell_type": "markdown",
   "metadata": {},
   "source": [
    "<p style=\"color:green\">A seguir, faremos a instanciação do método que fará a representação do texto usando Doc2Vec.</p> "
   ]
  },
  {
   "cell_type": "code",
   "execution_count": 62,
   "metadata": {},
   "outputs": [],
   "source": [
    "import gensim\n",
    "from gensim.models import Doc2Vec\n",
    "from gensim.models.doc2vec import TaggedDocument\n",
    "import nltk\n",
    "\n",
    "# Transformando os comentários em um formato adequado para o modelo Doc2Vec\n",
    "# TaggedDocument: Estrutura que associa um documento (lista de palavras) a uma etiqueta (tag)\n",
    "# Cada comentário é tokenizado e associado a um índice único\n",
    "comentarios_tagged = [TaggedDocument(words=nltk.word_tokenize(text), tags=[str(i)]) \n",
    "                      for i, text in enumerate(comentarios['content'])]\n",
    "\n",
    "# Criando e treinando o modelo Doc2Vec\n",
    "# vector_size=100: Tamanho dos vetores de saída\n",
    "# window=5: Tamanho da janela de contexto\n",
    "# min_count=2: Ignorar palavras que aparecem menos de 2 vezes\n",
    "# workers=4: Número de threads para treinamento\n",
    "# epochs=40: Número de épocas para treinamento\n",
    "doc2vec_model = Doc2Vec(vector_size=100, window=5, min_count=2, workers=4, epochs=40)\n",
    "doc2vec_model.build_vocab(comentarios_tagged) # Construindo o vocabulário do modelo\n",
    "doc2vec_model.train(comentarios_tagged, total_examples=doc2vec_model.corpus_count, epochs=doc2vec_model.epochs) # Treinando o modelo\n",
    "\n",
    "# Gerando vetores Doc2Vec para cada comentário\n",
    "# infer_vector: Gera um vetor para um novo documento com base no modelo treinado\n",
    "comentarios_vectors = [doc2vec_model.infer_vector(nltk.word_tokenize(text)) for text in comentarios['content']]"
   ]
  },
  {
   "cell_type": "code",
   "execution_count": 63,
   "metadata": {},
   "outputs": [],
   "source": [
    "import numpy as np\n",
    "from tensorflow.keras.models import Sequential\n",
    "from tensorflow.keras.layers import Dense, Dropout, Input\n",
    "from tensorflow.keras.utils import to_categorical\n",
    "from sklearn.model_selection import train_test_split\n",
    "from sklearn.preprocessing import LabelEncoder\n",
    "\n",
    "# Convertendo a lista de vetores Doc2Vec em uma matriz NumPy\n",
    "# X será uma matriz onde cada linha representa um vetor de documento\n",
    "X = np.array(comentarios_vectors)\n",
    "\n",
    "# Separando as variáveis alvo (rótulos) para polaridade e sentimento\n",
    "# y_polarity: Rótulos de polaridade do sentimento (positivo, negativo ou neutro)\n",
    "# y_sentiment: Rótulos de sentimento (Happiness, Surprise, Sadness, Neutral, Fear, Disgust, Anger)\n",
    "y_polarity = comentarios['sentiment_polarity'].values\n",
    "y_sentiment = comentarios['sentiment'].values"
   ]
  },
  {
   "cell_type": "markdown",
   "metadata": {},
   "source": [
    "<p style=\"color:green\">Codificação de sentiment e polarity</p> "
   ]
  },
  {
   "cell_type": "code",
   "execution_count": 64,
   "metadata": {},
   "outputs": [],
   "source": [
    "# Codificando as classes de polaridade de string para números inteiros\n",
    "# LabelEncoder converte as categorias de texto em números inteiros\n",
    "le_polarity = LabelEncoder()\n",
    "y_polarity_encoded = le_polarity.fit_transform(y_polarity)\n",
    "\n",
    "# Convertendo os rótulos inteiros para uma codificação one-hot\n",
    "# to_categorical transforma os rótulos inteiros em vetores binários\n",
    "y_polarity_categorical = to_categorical(y_polarity_encoded)\n",
    "\n",
    "# Codificando as classes de sentimento de string para números inteiros\n",
    "le_sentiment = LabelEncoder()\n",
    "y_sentiment_encoded = le_sentiment.fit_transform(y_sentiment)\n",
    "\n",
    "# Convertendo os rótulos inteiros para uma codificação one-hot\n",
    "y_sentiment_categorical = to_categorical(y_sentiment_encoded)"
   ]
  },
  {
   "cell_type": "markdown",
   "metadata": {},
   "source": [
    "# Treinamento e teste"
   ]
  },
  {
   "cell_type": "code",
   "execution_count": 65,
   "metadata": {},
   "outputs": [],
   "source": [
    "# Dividindo os dados para a tarefa de classificação de polaridade do sentimento\n",
    "# train_test_split: Divide o conjunto de dados em conjuntos de treino e teste\n",
    "# test_size=0.2: 20% dos dados serão usados para teste e 80% para treino\n",
    "# random_state=42: Define uma semente para garantir a reprodutibilidade\n",
    "X_train_polarity, X_test_polarity, y_train_polarity, y_test_polarity = train_test_split(X, y_polarity_categorical, test_size=0.2, random_state=42)\n",
    "\n",
    "# Dividindo os dados para a tarefa de classificação de sentimento\n",
    "# test_size=0.2: 20% dos dados serão usados para teste e 80% para treino\n",
    "# random_state=42: Define uma semente para garantir a reprodutibilidade\n",
    "X_train_sentiment, X_test_sentiment, y_train_sentiment, y_test_sentiment = train_test_split(X, y_sentiment_categorical, test_size=0.2, random_state=42)\n"
   ]
  },
  {
   "cell_type": "code",
   "execution_count": 66,
   "metadata": {},
   "outputs": [],
   "source": [
    "from tensorflow.keras.models import Sequential\n",
    "from tensorflow.keras.layers import Dense, Dropout, Input\n",
    "\n",
    "def create_model(input_shape, n_classes):\n",
    "    # Criando um modelo sequencial com Keras\n",
    "    model = Sequential([\n",
    "        Input(shape=input_shape), # Camada de entrada com a forma dos dados de entrada\n",
    "        Dense(128, activation='relu'), # Camada densa com 128 neurônios e ativação ReLU\n",
    "        Dropout(0.5), # Camada de Dropout para regularização, evita overfitting\n",
    "        Dense(64, activation='relu'), # Camada densa com 64 neurônios e ativação ReLU\n",
    "        Dense(n_classes, activation='softmax') # Camada de saída com número de classes, ativação softmax para problemas de classificação multiclasse\n",
    "    ])\n",
    "    # Compilando o modelo\n",
    "    # optimizer='adam': Otimizador Adam para ajustar os pesos do modelo\n",
    "    # loss='categorical_crossentropy': Função de perda para problemas de classificação multiclasse\n",
    "    # metrics=['accuracy']: Métrica para avaliar o desempenho do modelo\n",
    "    model.compile(optimizer='adam', loss='categorical_crossentropy', metrics=['accuracy'])\n",
    "    return model\n",
    "\n",
    "# Criar o modelo para a tarefa de classificação de sentimento\n",
    "# input_shape: Forma da entrada do modelo, que corresponde ao número de características dos vetores Doc2Vec\n",
    "# n_classes: Número de classes na tarefa de classificação de sentimento\n",
    "model_sentiment = create_model((X_train_sentiment.shape[1],), y_sentiment_categorical.shape[1])\n",
    "\n",
    "# Criar o modelo para a tarefa de classificação de polaridade\n",
    "# input_shape: Forma da entrada do modelo, que corresponde ao número de características dos vetores Doc2Vec\n",
    "# n_classes: Número de classes na tarefa de classificação de polaridade\n",
    "model_polarity = create_model((X_train_polarity.shape[1],), y_polarity_categorical.shape[1])"
   ]
  },
  {
   "cell_type": "code",
   "execution_count": 67,
   "metadata": {},
   "outputs": [
    {
     "name": "stdout",
     "output_type": "stream",
     "text": [
      "Epoch 1/10\n",
      "\u001b[1m76/76\u001b[0m \u001b[32m━━━━━━━━━━━━━━━━━━━━\u001b[0m\u001b[37m\u001b[0m \u001b[1m1s\u001b[0m 4ms/step - accuracy: 0.3185 - loss: 1.6787 - val_accuracy: 0.5124 - val_loss: 1.3089\n",
      "Epoch 2/10\n",
      "\u001b[1m76/76\u001b[0m \u001b[32m━━━━━━━━━━━━━━━━━━━━\u001b[0m\u001b[37m\u001b[0m \u001b[1m0s\u001b[0m 2ms/step - accuracy: 0.4971 - loss: 1.2822 - val_accuracy: 0.5423 - val_loss: 1.1565\n",
      "Epoch 3/10\n",
      "\u001b[1m76/76\u001b[0m \u001b[32m━━━━━━━━━━━━━━━━━━━━\u001b[0m\u001b[37m\u001b[0m \u001b[1m0s\u001b[0m 2ms/step - accuracy: 0.5411 - loss: 1.2004 - val_accuracy: 0.5837 - val_loss: 1.1098\n",
      "Epoch 4/10\n",
      "\u001b[1m76/76\u001b[0m \u001b[32m━━━━━━━━━━━━━━━━━━━━\u001b[0m\u001b[37m\u001b[0m \u001b[1m0s\u001b[0m 2ms/step - accuracy: 0.5641 - loss: 1.1143 - val_accuracy: 0.5721 - val_loss: 1.0871\n",
      "Epoch 5/10\n",
      "\u001b[1m76/76\u001b[0m \u001b[32m━━━━━━━━━━━━━━━━━━━━\u001b[0m\u001b[37m\u001b[0m \u001b[1m0s\u001b[0m 2ms/step - accuracy: 0.5627 - loss: 1.0605 - val_accuracy: 0.5788 - val_loss: 1.0782\n",
      "Epoch 6/10\n",
      "\u001b[1m76/76\u001b[0m \u001b[32m━━━━━━━━━━━━━━━━━━━━\u001b[0m\u001b[37m\u001b[0m \u001b[1m0s\u001b[0m 2ms/step - accuracy: 0.5894 - loss: 1.0569 - val_accuracy: 0.5854 - val_loss: 1.0710\n",
      "Epoch 7/10\n",
      "\u001b[1m76/76\u001b[0m \u001b[32m━━━━━━━━━━━━━━━━━━━━\u001b[0m\u001b[37m\u001b[0m \u001b[1m0s\u001b[0m 2ms/step - accuracy: 0.5906 - loss: 1.0273 - val_accuracy: 0.5721 - val_loss: 1.0707\n",
      "Epoch 8/10\n",
      "\u001b[1m76/76\u001b[0m \u001b[32m━━━━━━━━━━━━━━━━━━━━\u001b[0m\u001b[37m\u001b[0m \u001b[1m0s\u001b[0m 2ms/step - accuracy: 0.5892 - loss: 1.0152 - val_accuracy: 0.5705 - val_loss: 1.0707\n",
      "Epoch 9/10\n",
      "\u001b[1m76/76\u001b[0m \u001b[32m━━━━━━━━━━━━━━━━━━━━\u001b[0m\u001b[37m\u001b[0m \u001b[1m0s\u001b[0m 2ms/step - accuracy: 0.6130 - loss: 0.9843 - val_accuracy: 0.5672 - val_loss: 1.0782\n",
      "Epoch 10/10\n",
      "\u001b[1m76/76\u001b[0m \u001b[32m━━━━━━━━━━━━━━━━━━━━\u001b[0m\u001b[37m\u001b[0m \u001b[1m0s\u001b[0m 2ms/step - accuracy: 0.6213 - loss: 0.9671 - val_accuracy: 0.5672 - val_loss: 1.0609\n",
      "\u001b[1m19/19\u001b[0m \u001b[32m━━━━━━━━━━━━━━━━━━━━\u001b[0m\u001b[37m\u001b[0m \u001b[1m0s\u001b[0m 833us/step - accuracy: 0.5623 - loss: 1.1171\n",
      "Acurácia do modelo para sentiment: 56.72%\n"
     ]
    }
   ],
   "source": [
    "# Treinando o modelo para a tarefa de classificação de sentimento\n",
    "# epochs=10: Número de épocas para treinar o modelo (10 passes completos pelos dados de treinamento)\n",
    "# batch_size=32: Número de amostras por atualização do gradiente\n",
    "# validation_data=(X_test_sentiment, y_test_sentiment): Dados de validação usados para monitorar o desempenho do modelo durante o treinamento\n",
    "model_sentiment.fit(X_train_sentiment, y_train_sentiment, epochs=10, batch_size=32, validation_data=(X_test_sentiment, y_test_sentiment))\n",
    "\n",
    "# Avaliando o modelo treinado usando os dados de teste\n",
    "# O método evaluate retorna a perda e a precisão do modelo nos dados de teste\n",
    "loss, accuracy = model_sentiment.evaluate(X_test_sentiment, y_test_sentiment)\n",
    "# Imprimindo a precisão do modelo formatada como porcentagem\n",
    "print(f'Acurácia do modelo para sentiment: {accuracy*100:.2f}%')"
   ]
  },
  {
   "cell_type": "code",
   "execution_count": 68,
   "metadata": {},
   "outputs": [
    {
     "name": "stdout",
     "output_type": "stream",
     "text": [
      "\u001b[1m19/19\u001b[0m \u001b[32m━━━━━━━━━━━━━━━━━━━━\u001b[0m\u001b[37m\u001b[0m \u001b[1m0s\u001b[0m 3ms/step \n",
      "Classification Report for Sentiment:\n",
      "              precision    recall  f1-score   support\n",
      "\n",
      "       anger       0.54      0.61      0.57       153\n",
      "     disgust       0.55      0.45      0.49       188\n",
      "        fear       0.00      0.00      0.00         5\n",
      "   happiness       0.67      0.61      0.64        64\n",
      "     neutral       0.00      0.00      0.00        19\n",
      "     sadness       0.58      0.73      0.64       172\n",
      "    surprise       0.00      0.00      0.00         2\n",
      "\n",
      "    accuracy                           0.57       603\n",
      "   macro avg       0.33      0.34      0.34       603\n",
      "weighted avg       0.54      0.57      0.55       603\n",
      "\n"
     ]
    },
    {
     "name": "stderr",
     "output_type": "stream",
     "text": [
      "c:\\Users\\dougl\\OneDrive\\Desktop\\Mineracao_Textos\\venv\\lib\\site-packages\\sklearn\\metrics\\_classification.py:1531: UndefinedMetricWarning: Precision is ill-defined and being set to 0.0 in labels with no predicted samples. Use `zero_division` parameter to control this behavior.\n",
      "  _warn_prf(average, modifier, f\"{metric.capitalize()} is\", len(result))\n",
      "c:\\Users\\dougl\\OneDrive\\Desktop\\Mineracao_Textos\\venv\\lib\\site-packages\\sklearn\\metrics\\_classification.py:1531: UndefinedMetricWarning: Precision is ill-defined and being set to 0.0 in labels with no predicted samples. Use `zero_division` parameter to control this behavior.\n",
      "  _warn_prf(average, modifier, f\"{metric.capitalize()} is\", len(result))\n",
      "c:\\Users\\dougl\\OneDrive\\Desktop\\Mineracao_Textos\\venv\\lib\\site-packages\\sklearn\\metrics\\_classification.py:1531: UndefinedMetricWarning: Precision is ill-defined and being set to 0.0 in labels with no predicted samples. Use `zero_division` parameter to control this behavior.\n",
      "  _warn_prf(average, modifier, f\"{metric.capitalize()} is\", len(result))\n"
     ]
    }
   ],
   "source": [
    "from sklearn.metrics import classification_report\n",
    "import numpy as np\n",
    "\n",
    "# Gerar previsões para o conjunto de teste\n",
    "# model_sentiment.predict retorna as probabilidades previstas para cada classe\n",
    "# np.argmax é usado para converter essas probabilidades em classes, selecionando a classe com a maior probabilidade\n",
    "y_pred_sentiment = model_sentiment.predict(X_test_sentiment)\n",
    "y_pred_sentiment = np.argmax(y_pred_sentiment, axis=1)  # Convertendo probabilidades em classes\n",
    "\n",
    "# Convertendo os rótulos codificados de volta para os rótulos originais\n",
    "# np.argmax é usado para converter as previsões one-hot de volta para índices de classes\n",
    "# le_sentiment.inverse_transform converte os índices de volta para os rótulos de texto originais\n",
    "y_test_sentiment_original = le_sentiment.inverse_transform(np.argmax(y_test_sentiment, axis=1))\n",
    "y_pred_sentiment_original = le_sentiment.inverse_transform(y_pred_sentiment)\n",
    "\n",
    "# Gerar o relatório de classificação\n",
    "# classification_report fornece métricas de desempenho como precisão, recall e F1-score\n",
    "print(\"Classification Report for Sentiment:\")\n",
    "print(classification_report(y_test_sentiment_original, y_pred_sentiment_original))"
   ]
  },
  {
   "cell_type": "code",
   "execution_count": 69,
   "metadata": {},
   "outputs": [
    {
     "name": "stdout",
     "output_type": "stream",
     "text": [
      "\u001b[1m19/19\u001b[0m \u001b[32m━━━━━━━━━━━━━━━━━━━━\u001b[0m\u001b[37m\u001b[0m \u001b[1m0s\u001b[0m 889us/step\n"
     ]
    },
    {
     "data": {
      "image/png": "[encoded data removed]",
      "text/plain": [
       "<Figure size 640x480 with 1 Axes>"
      ]
     },
     "metadata": {},
     "output_type": "display_data"
    }
   ],
   "source": [
    "from sklearn.metrics import confusion_matrix\n",
    "import matplotlib.pyplot as plt\n",
    "import seaborn as sns\n",
    "\n",
    "# Gerar previsões para o conjunto de teste\n",
    "# model_sentiment.predict retorna as probabilidades previstas para cada classe\n",
    "# np.argmax é usado para converter essas probabilidades em classes, selecionando a classe com a maior probabilidade\n",
    "y_pred_sentiment = model_sentiment.predict(X_test_sentiment)\n",
    "y_pred_sentiment = np.argmax(y_pred_sentiment, axis=1)  # Convertendo probabilidades em classes\n",
    "\n",
    "# Obtendo os rótulos únicos para o sentimento, que serão usados nos eixos da matriz de confusão\n",
    "# le_sentiment.classes_ fornece os rótulos originais das classes\n",
    "sentiment_labels = le_sentiment.classes_\n",
    "\n",
    "# Calculando a matriz de confusão\n",
    "# confusion_matrix compara as previsões com os rótulos reais\n",
    "# np.argmax é usado para converter as previsões one-hot de volta para índices de classes\n",
    "# labels=range(len(sentiment_labels)) garante que todos os rótulos possíveis sejam incluídos na matriz\n",
    "cm_sentiment = confusion_matrix(np.argmax(y_test_sentiment, axis=1), y_pred_sentiment, labels=range(len(sentiment_labels)))\n",
    "\n",
    "# Criando um gráfico da matriz de confusão usando seaborn\n",
    "# sns.heatmap cria um mapa de calor da matriz de confusão\n",
    "sns.heatmap(cm_sentiment, square=True, annot=True, fmt='d', cmap='RdBu', cbar=False, \n",
    "            xticklabels=sentiment_labels,\n",
    "            yticklabels=sentiment_labels)\n",
    "\n",
    "plt.xlabel(\"Classe Real\")    # Rótulo do eixo x\n",
    "plt.ylabel(\"Classe Predita\") # Rótulo do eixo y\n",
    "plt.title(\"Matriz de Confusão para Sentiment\") # Título do gráfico\n",
    "plt.show() # Exibindo o gráfico\n"
   ]
  },
  {
   "cell_type": "code",
   "execution_count": 70,
   "metadata": {},
   "outputs": [
    {
     "name": "stdout",
     "output_type": "stream",
     "text": [
      "Epoch 1/10\n",
      "\u001b[1m76/76\u001b[0m \u001b[32m━━━━━━━━━━━━━━━━━━━━\u001b[0m\u001b[37m\u001b[0m \u001b[1m1s\u001b[0m 4ms/step - accuracy: 0.5818 - loss: 0.8357 - val_accuracy: 0.7861 - val_loss: 0.5906\n",
      "Epoch 2/10\n",
      "\u001b[1m76/76\u001b[0m \u001b[32m━━━━━━━━━━━━━━━━━━━━\u001b[0m\u001b[37m\u001b[0m \u001b[1m0s\u001b[0m 2ms/step - accuracy: 0.7427 - loss: 0.6074 - val_accuracy: 0.7977 - val_loss: 0.5324\n",
      "Epoch 3/10\n",
      "\u001b[1m76/76\u001b[0m \u001b[32m━━━━━━━━━━━━━━━━━━━━\u001b[0m\u001b[37m\u001b[0m \u001b[1m0s\u001b[0m 2ms/step - accuracy: 0.7789 - loss: 0.5588 - val_accuracy: 0.7977 - val_loss: 0.5126\n",
      "Epoch 4/10\n",
      "\u001b[1m76/76\u001b[0m \u001b[32m━━━━━━━━━━━━━━━━━━━━\u001b[0m\u001b[37m\u001b[0m \u001b[1m0s\u001b[0m 2ms/step - accuracy: 0.7605 - loss: 0.5611 - val_accuracy: 0.7960 - val_loss: 0.5101\n",
      "Epoch 5/10\n",
      "\u001b[1m76/76\u001b[0m \u001b[32m━━━━━━━━━━━━━━━━━━━━\u001b[0m\u001b[37m\u001b[0m \u001b[1m0s\u001b[0m 2ms/step - accuracy: 0.7905 - loss: 0.5043 - val_accuracy: 0.7977 - val_loss: 0.5100\n",
      "Epoch 6/10\n",
      "\u001b[1m76/76\u001b[0m \u001b[32m━━━━━━━━━━━━━━━━━━━━\u001b[0m\u001b[37m\u001b[0m \u001b[1m0s\u001b[0m 2ms/step - accuracy: 0.7897 - loss: 0.4984 - val_accuracy: 0.7960 - val_loss: 0.5098\n",
      "Epoch 7/10\n",
      "\u001b[1m76/76\u001b[0m \u001b[32m━━━━━━━━━━━━━━━━━━━━\u001b[0m\u001b[37m\u001b[0m \u001b[1m0s\u001b[0m 2ms/step - accuracy: 0.8204 - loss: 0.4502 - val_accuracy: 0.8043 - val_loss: 0.5093\n",
      "Epoch 8/10\n",
      "\u001b[1m76/76\u001b[0m \u001b[32m━━━━━━━━━━━━━━━━━━━━\u001b[0m\u001b[37m\u001b[0m \u001b[1m0s\u001b[0m 2ms/step - accuracy: 0.8143 - loss: 0.4645 - val_accuracy: 0.8027 - val_loss: 0.5145\n",
      "Epoch 9/10\n",
      "\u001b[1m76/76\u001b[0m \u001b[32m━━━━━━━━━━━━━━━━━━━━\u001b[0m\u001b[37m\u001b[0m \u001b[1m0s\u001b[0m 2ms/step - accuracy: 0.8097 - loss: 0.4438 - val_accuracy: 0.8076 - val_loss: 0.5142\n",
      "Epoch 10/10\n",
      "\u001b[1m76/76\u001b[0m \u001b[32m━━━━━━━━━━━━━━━━━━━━\u001b[0m\u001b[37m\u001b[0m \u001b[1m0s\u001b[0m 2ms/step - accuracy: 0.8130 - loss: 0.4707 - val_accuracy: 0.8010 - val_loss: 0.5195\n",
      "\u001b[1m19/19\u001b[0m \u001b[32m━━━━━━━━━━━━━━━━━━━━\u001b[0m\u001b[37m\u001b[0m \u001b[1m0s\u001b[0m 889us/step - accuracy: 0.7907 - loss: 0.5718\n",
      "Acurácia do modelo para sentiment_polarity: 80.10%\n"
     ]
    }
   ],
   "source": [
    "# Treinar o modelo para a tarefa de classificação de polaridade\n",
    "# model_polarity.fit treina o modelo com os dados de treinamento para 'sentiment_polarity'\n",
    "# epochs=10: Número de épocas para treinar o modelo (10 passes completos pelos dados de treinamento)\n",
    "# batch_size=32: Número de amostras por atualização do gradiente\n",
    "# validation_data=(X_test_polarity, y_test_polarity): Dados de validação usados para monitorar o desempenho do modelo durante o treinamento\n",
    "model_polarity.fit(X_train_polarity, y_train_polarity, epochs=10, batch_size=32, validation_data=(X_test_polarity, y_test_polarity))\n",
    "\n",
    "# Avaliar o modelo treinado usando os dados de teste\n",
    "# O método evaluate retorna a perda e a precisão do modelo nos dados de teste\n",
    "loss, accuracy = model_polarity.evaluate(X_test_polarity, y_test_polarity)\n",
    "# Imprimindo a precisão do modelo formatada como porcentagem\n",
    "print(f'Acurácia do modelo para sentiment_polarity: {accuracy*100:.2f}%')"
   ]
  },
  {
   "cell_type": "code",
   "execution_count": 71,
   "metadata": {},
   "outputs": [
    {
     "name": "stdout",
     "output_type": "stream",
     "text": [
      "\u001b[1m19/19\u001b[0m \u001b[32m━━━━━━━━━━━━━━━━━━━━\u001b[0m\u001b[37m\u001b[0m \u001b[1m0s\u001b[0m 3ms/step \n",
      "Classification Report for Sentiment Polarity:\n",
      "              precision    recall  f1-score   support\n",
      "\n",
      "    negative       0.82      0.86      0.84       346\n",
      "     neutral       0.00      0.00      0.00        19\n",
      "    positive       0.77      0.78      0.77       238\n",
      "\n",
      "    accuracy                           0.80       603\n",
      "   macro avg       0.53      0.55      0.54       603\n",
      "weighted avg       0.78      0.80      0.79       603\n",
      "\n"
     ]
    },
    {
     "name": "stderr",
     "output_type": "stream",
     "text": [
      "c:\\Users\\dougl\\OneDrive\\Desktop\\Mineracao_Textos\\venv\\lib\\site-packages\\sklearn\\metrics\\_classification.py:1531: UndefinedMetricWarning: Precision is ill-defined and being set to 0.0 in labels with no predicted samples. Use `zero_division` parameter to control this behavior.\n",
      "  _warn_prf(average, modifier, f\"{metric.capitalize()} is\", len(result))\n",
      "c:\\Users\\dougl\\OneDrive\\Desktop\\Mineracao_Textos\\venv\\lib\\site-packages\\sklearn\\metrics\\_classification.py:1531: UndefinedMetricWarning: Precision is ill-defined and being set to 0.0 in labels with no predicted samples. Use `zero_division` parameter to control this behavior.\n",
      "  _warn_prf(average, modifier, f\"{metric.capitalize()} is\", len(result))\n",
      "c:\\Users\\dougl\\OneDrive\\Desktop\\Mineracao_Textos\\venv\\lib\\site-packages\\sklearn\\metrics\\_classification.py:1531: UndefinedMetricWarning: Precision is ill-defined and being set to 0.0 in labels with no predicted samples. Use `zero_division` parameter to control this behavior.\n",
      "  _warn_prf(average, modifier, f\"{metric.capitalize()} is\", len(result))\n"
     ]
    }
   ],
   "source": [
    "from sklearn.metrics import classification_report\n",
    "import numpy as np\n",
    "\n",
    "# Gerar previsões para o conjunto de teste\n",
    "# model_polarity.predict retorna as probabilidades previstas para cada classe\n",
    "# np.argmax é usado para converter essas probabilidades em classes, selecionando a classe com a maior probabilidade\n",
    "y_pred_polarity = model_polarity.predict(X_test_polarity)\n",
    "y_pred_polarity = np.argmax(y_pred_polarity, axis=1)  # Convertendo probabilidades em classes\n",
    "\n",
    "# Convertendo rótulos codificados de volta para os rótulos originais\n",
    "# np.argmax é usado para converter as previsões one-hot de volta para índices de classes\n",
    "# le_polarity.inverse_transform converte os índices de volta para os rótulos de texto originais\n",
    "y_test_polarity_original = le_polarity.inverse_transform(np.argmax(y_test_polarity, axis=1))\n",
    "y_pred_polarity_original = le_polarity.inverse_transform(y_pred_polarity)\n",
    "\n",
    "# Gerar o relatório de classificação\n",
    "print(\"Classification Report for Sentiment Polarity:\")\n",
    "print(classification_report(y_test_polarity_original, y_pred_polarity_original))"
   ]
  },
  {
   "cell_type": "code",
   "execution_count": 72,
   "metadata": {},
   "outputs": [
    {
     "name": "stdout",
     "output_type": "stream",
     "text": [
      "\u001b[1m19/19\u001b[0m \u001b[32m━━━━━━━━━━━━━━━━━━━━\u001b[0m\u001b[37m\u001b[0m \u001b[1m0s\u001b[0m 889us/step\n"
     ]
    },
    {
     "data": {
      "image/png": "[encoded data removed]",
      "text/plain": [
       "<Figure size 640x480 with 1 Axes>"
      ]
     },
     "metadata": {},
     "output_type": "display_data"
    }
   ],
   "source": [
    "from sklearn.metrics import confusion_matrix\n",
    "import matplotlib.pyplot as plt\n",
    "import seaborn as sns\n",
    "\n",
    "# Gerar previsões para o conjunto de teste\n",
    "# model_polarity.predict retorna as probabilidades previstas para cada classe\n",
    "# np.argmax é usado para converter essas probabilidades em classes, selecionando a classe com a maior probabilidade\n",
    "y_pred_polarity = model_polarity.predict(X_test_polarity)\n",
    "y_pred_polarity = np.argmax(y_pred_polarity, axis=1)  # Convertendo probabilidades em classes\n",
    "\n",
    "# Obtendo os rótulos únicos para polaridade, que serão usados nos eixos da matriz de confusão\n",
    "# le_polarity.classes_ fornece os rótulos originais das classes\n",
    "polarity_labels = le_polarity.classes_\n",
    "\n",
    "# Calculando a matriz de confusão\n",
    "# confusion_matrix compara as previsões com os rótulos reais\n",
    "# np.argmax é usado para converter os rótulos one-hot de volta para índices de classes\n",
    "# labels=range(len(polarity_labels)) garante que todos os rótulos possíveis sejam incluídos na matriz\n",
    "cm_polarity = confusion_matrix(np.argmax(y_test_polarity, axis=1), y_pred_polarity, labels=range(len(polarity_labels)))\n",
    "\n",
    "# Criando um gráfico da matriz de confusão usando seaborn\n",
    "# sns.heatmap cria um mapa de calor da matriz de confusão\n",
    "sns.heatmap(cm_polarity, square=True, annot=True, fmt='d', cmap='RdBu', cbar=False, \n",
    "            xticklabels=polarity_labels,\n",
    "            yticklabels=polarity_labels)\n",
    "\n",
    "plt.xlabel(\"Classe Real\")    # Rótulo do eixo x\n",
    "plt.ylabel(\"Classe Predita\") # Rótulo do eixo y\n",
    "plt.title(\"Matriz de Confusão para Polarity\") # Título do gráfico\n",
    "plt.show() # Exibindo o gráfico"
   ]
  }
 ],
 "metadata": {
  "kernelspec": {
   "display_name": "venv",
   "language": "python",
   "name": "python3"
  },
  "language_info": {
   "codemirror_mode": {
    "name": "ipython",
    "version": 3
   },
   "file_extension": ".py",
   "mimetype": "text/x-python",
   "name": "python",
   "nbconvert_exporter": "python",
   "pygments_lexer": "ipython3",
   "version": "3.10.11"
  }
 },
 "nbformat": 4,
 "nbformat_minor": 2
}
