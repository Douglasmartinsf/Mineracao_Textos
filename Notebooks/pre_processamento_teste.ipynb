{
 "cells": [
  {
   "cell_type": "markdown",
   "metadata": {},
   "source": [
    "# Carregamento dos dados"
   ]
  },
  {
   "cell_type": "code",
   "execution_count": 7,
   "metadata": {},
   "outputs": [
    {
     "data": {
      "text/html": [
       "<div>\n",
       "<style scoped>\n",
       "    .dataframe tbody tr th:only-of-type {\n",
       "        vertical-align: middle;\n",
       "    }\n",
       "\n",
       "    .dataframe tbody tr th {\n",
       "        vertical-align: top;\n",
       "    }\n",
       "\n",
       "    .dataframe thead th {\n",
       "        text-align: right;\n",
       "    }\n",
       "</style>\n",
       "<table border=\"1\" class=\"dataframe\">\n",
       "  <thead>\n",
       "    <tr style=\"text-align: right;\">\n",
       "      <th></th>\n",
       "      <th>reviewId</th>\n",
       "      <th>app_name</th>\n",
       "      <th>content</th>\n",
       "      <th>sentiment_polarity</th>\n",
       "      <th>sentiment</th>\n",
       "    </tr>\n",
       "  </thead>\n",
       "  <tbody>\n",
       "    <tr>\n",
       "      <th>0</th>\n",
       "      <td>a12345f6-78g9-1011-h121-314151617181</td>\n",
       "      <td>YouTube</td>\n",
       "      <td>A nova interface do YouTube ficou confusa. As ...</td>\n",
       "      <td>negative</td>\n",
       "      <td>anger</td>\n",
       "    </tr>\n",
       "    <tr>\n",
       "      <th>1</th>\n",
       "      <td>b23456g7-89h0-1122-i131-415161718192</td>\n",
       "      <td>Netflix</td>\n",
       "      <td>O catálogo da Netflix é ótimo, mas a qualidade...</td>\n",
       "      <td>positive</td>\n",
       "      <td>happiness</td>\n",
       "    </tr>\n",
       "    <tr>\n",
       "      <th>2</th>\n",
       "      <td>c34567h8-90i1-1233-j141-516171819203</td>\n",
       "      <td>Spotify</td>\n",
       "      <td>A experiência no Spotify é incrível, mas a qua...</td>\n",
       "      <td>positive</td>\n",
       "      <td>sadness</td>\n",
       "    </tr>\n",
       "  </tbody>\n",
       "</table>\n",
       "</div>"
      ],
      "text/plain": [
       "                               reviewId app_name  \\\n",
       "0  a12345f6-78g9-1011-h121-314151617181  YouTube   \n",
       "1  b23456g7-89h0-1122-i131-415161718192  Netflix   \n",
       "2  c34567h8-90i1-1233-j141-516171819203  Spotify   \n",
       "\n",
       "                                             content sentiment_polarity  \\\n",
       "0  A nova interface do YouTube ficou confusa. As ...           negative   \n",
       "1  O catálogo da Netflix é ótimo, mas a qualidade...           positive   \n",
       "2  A experiência no Spotify é incrível, mas a qua...           positive   \n",
       "\n",
       "   sentiment  \n",
       "0      anger  \n",
       "1  happiness  \n",
       "2    sadness  "
      ]
     },
     "execution_count": 7,
     "metadata": {},
     "output_type": "execute_result"
    }
   ],
   "source": [
    "import pandas as pd\n",
    "\n",
    "# Carregando os dados do arquivo CSV em um DataFrame do pandas\n",
    "comentarios = pd.read_csv('../Data/teste.csv')\n",
    "\n",
    "comentarios.head()"
   ]
  },
  {
   "cell_type": "markdown",
   "metadata": {},
   "source": [
    "# Pré-processamento"
   ]
  },
  {
   "cell_type": "markdown",
   "metadata": {},
   "source": [
    "<p style=\"color:green\">Converte emojis para texto</p>"
   ]
  },
  {
   "cell_type": "code",
   "execution_count": 8,
   "metadata": {},
   "outputs": [
    {
     "data": {
      "text/html": [
       "<div>\n",
       "<style scoped>\n",
       "    .dataframe tbody tr th:only-of-type {\n",
       "        vertical-align: middle;\n",
       "    }\n",
       "\n",
       "    .dataframe tbody tr th {\n",
       "        vertical-align: top;\n",
       "    }\n",
       "\n",
       "    .dataframe thead th {\n",
       "        text-align: right;\n",
       "    }\n",
       "</style>\n",
       "<table border=\"1\" class=\"dataframe\">\n",
       "  <thead>\n",
       "    <tr style=\"text-align: right;\">\n",
       "      <th></th>\n",
       "      <th>reviewId</th>\n",
       "      <th>app_name</th>\n",
       "      <th>content</th>\n",
       "      <th>sentiment_polarity</th>\n",
       "      <th>sentiment</th>\n",
       "    </tr>\n",
       "  </thead>\n",
       "  <tbody>\n",
       "    <tr>\n",
       "      <th>0</th>\n",
       "      <td>a12345f6-78g9-1011-h121-314151617181</td>\n",
       "      <td>YouTube</td>\n",
       "      <td>A nova interface do YouTube ficou confusa. As ...</td>\n",
       "      <td>negative</td>\n",
       "      <td>anger</td>\n",
       "    </tr>\n",
       "    <tr>\n",
       "      <th>1</th>\n",
       "      <td>b23456g7-89h0-1122-i131-415161718192</td>\n",
       "      <td>Netflix</td>\n",
       "      <td>O catálogo da Netflix é ótimo, mas a qualidade...</td>\n",
       "      <td>positive</td>\n",
       "      <td>happiness</td>\n",
       "    </tr>\n",
       "    <tr>\n",
       "      <th>2</th>\n",
       "      <td>c34567h8-90i1-1233-j141-516171819203</td>\n",
       "      <td>Spotify</td>\n",
       "      <td>A experiência no Spotify é incrível, mas a qua...</td>\n",
       "      <td>positive</td>\n",
       "      <td>sadness</td>\n",
       "    </tr>\n",
       "  </tbody>\n",
       "</table>\n",
       "</div>"
      ],
      "text/plain": [
       "                               reviewId app_name  \\\n",
       "0  a12345f6-78g9-1011-h121-314151617181  YouTube   \n",
       "1  b23456g7-89h0-1122-i131-415161718192  Netflix   \n",
       "2  c34567h8-90i1-1233-j141-516171819203  Spotify   \n",
       "\n",
       "                                             content sentiment_polarity  \\\n",
       "0  A nova interface do YouTube ficou confusa. As ...           negative   \n",
       "1  O catálogo da Netflix é ótimo, mas a qualidade...           positive   \n",
       "2  A experiência no Spotify é incrível, mas a qua...           positive   \n",
       "\n",
       "   sentiment  \n",
       "0      anger  \n",
       "1  happiness  \n",
       "2    sadness  "
      ]
     },
     "execution_count": 8,
     "metadata": {},
     "output_type": "execute_result"
    }
   ],
   "source": [
    "import emoji\n",
    "\n",
    "def replace_emojis(text):\n",
    "    # Converte emojis no texto para suas representações textuais usando o pacote 'emoji'\n",
    "    # 'language='pt'' especifica que a representação textual dos emojis deve estar em português\n",
    "    return emoji.demojize(text, language='pt')\n",
    "\n",
    "# Aplica a função 'replace_emojis' a cada elemento da coluna 'content' do DataFrame 'comentarios'\n",
    "# Isso substituirá todos os emojis nos textos por suas representações textuais\n",
    "comentarios['content'] = comentarios['content'].apply(replace_emojis)\n",
    "\n",
    "comentarios.head()"
   ]
  },
  {
   "cell_type": "markdown",
   "metadata": {},
   "source": [
    "<p style=\"color:green\">Removendo todo e qualquer caracter que não seja latino</p>"
   ]
  },
  {
   "cell_type": "code",
   "execution_count": 9,
   "metadata": {},
   "outputs": [
    {
     "data": {
      "text/html": [
       "<div>\n",
       "<style scoped>\n",
       "    .dataframe tbody tr th:only-of-type {\n",
       "        vertical-align: middle;\n",
       "    }\n",
       "\n",
       "    .dataframe tbody tr th {\n",
       "        vertical-align: top;\n",
       "    }\n",
       "\n",
       "    .dataframe thead th {\n",
       "        text-align: right;\n",
       "    }\n",
       "</style>\n",
       "<table border=\"1\" class=\"dataframe\">\n",
       "  <thead>\n",
       "    <tr style=\"text-align: right;\">\n",
       "      <th></th>\n",
       "      <th>reviewId</th>\n",
       "      <th>app_name</th>\n",
       "      <th>content</th>\n",
       "      <th>sentiment_polarity</th>\n",
       "      <th>sentiment</th>\n",
       "    </tr>\n",
       "  </thead>\n",
       "  <tbody>\n",
       "    <tr>\n",
       "      <th>0</th>\n",
       "      <td>a12345f6-78g9-1011-h121-314151617181</td>\n",
       "      <td>YouTube</td>\n",
       "      <td>A nova interface do YouTube ficou confusa  As ...</td>\n",
       "      <td>negative</td>\n",
       "      <td>anger</td>\n",
       "    </tr>\n",
       "    <tr>\n",
       "      <th>1</th>\n",
       "      <td>b23456g7-89h0-1122-i131-415161718192</td>\n",
       "      <td>Netflix</td>\n",
       "      <td>O catálogo da Netflix é ótimo  mas a qualidade...</td>\n",
       "      <td>positive</td>\n",
       "      <td>happiness</td>\n",
       "    </tr>\n",
       "    <tr>\n",
       "      <th>2</th>\n",
       "      <td>c34567h8-90i1-1233-j141-516171819203</td>\n",
       "      <td>Spotify</td>\n",
       "      <td>A experiência no Spotify é incrível  mas a qua...</td>\n",
       "      <td>positive</td>\n",
       "      <td>sadness</td>\n",
       "    </tr>\n",
       "  </tbody>\n",
       "</table>\n",
       "</div>"
      ],
      "text/plain": [
       "                               reviewId app_name  \\\n",
       "0  a12345f6-78g9-1011-h121-314151617181  YouTube   \n",
       "1  b23456g7-89h0-1122-i131-415161718192  Netflix   \n",
       "2  c34567h8-90i1-1233-j141-516171819203  Spotify   \n",
       "\n",
       "                                             content sentiment_polarity  \\\n",
       "0  A nova interface do YouTube ficou confusa  As ...           negative   \n",
       "1  O catálogo da Netflix é ótimo  mas a qualidade...           positive   \n",
       "2  A experiência no Spotify é incrível  mas a qua...           positive   \n",
       "\n",
       "   sentiment  \n",
       "0      anger  \n",
       "1  happiness  \n",
       "2    sadness  "
      ]
     },
     "execution_count": 9,
     "metadata": {},
     "output_type": "execute_result"
    }
   ],
   "source": [
    "import regex \n",
    "\n",
    "# Aplica uma substituição para remover caracteres não latinos do texto\n",
    "# regex.sub é usado para substituir todos os caracteres que não são letras do alfabeto latino por um espaço\n",
    "# O padrão '[^\\p{Latin}]' identifica qualquer caractere que não seja uma letra latina\n",
    "comentarios['content'] = comentarios['content'].apply(lambda x: regex.sub('[^\\p{Latin}]', u' ', str(x)))\n",
    "\n",
    "comentarios.head()"
   ]
  },
  {
   "cell_type": "markdown",
   "metadata": {},
   "source": [
    "<p style=\"color:green\">Colocando todos os textos para minúsculo</p>"
   ]
  },
  {
   "cell_type": "code",
   "execution_count": 10,
   "metadata": {},
   "outputs": [
    {
     "data": {
      "text/html": [
       "<div>\n",
       "<style scoped>\n",
       "    .dataframe tbody tr th:only-of-type {\n",
       "        vertical-align: middle;\n",
       "    }\n",
       "\n",
       "    .dataframe tbody tr th {\n",
       "        vertical-align: top;\n",
       "    }\n",
       "\n",
       "    .dataframe thead th {\n",
       "        text-align: right;\n",
       "    }\n",
       "</style>\n",
       "<table border=\"1\" class=\"dataframe\">\n",
       "  <thead>\n",
       "    <tr style=\"text-align: right;\">\n",
       "      <th></th>\n",
       "      <th>reviewId</th>\n",
       "      <th>app_name</th>\n",
       "      <th>content</th>\n",
       "      <th>sentiment_polarity</th>\n",
       "      <th>sentiment</th>\n",
       "    </tr>\n",
       "  </thead>\n",
       "  <tbody>\n",
       "    <tr>\n",
       "      <th>0</th>\n",
       "      <td>a12345f6-78g9-1011-h121-314151617181</td>\n",
       "      <td>YouTube</td>\n",
       "      <td>a nova interface do youtube ficou confusa  as ...</td>\n",
       "      <td>negative</td>\n",
       "      <td>anger</td>\n",
       "    </tr>\n",
       "    <tr>\n",
       "      <th>1</th>\n",
       "      <td>b23456g7-89h0-1122-i131-415161718192</td>\n",
       "      <td>Netflix</td>\n",
       "      <td>o catálogo da netflix é ótimo  mas a qualidade...</td>\n",
       "      <td>positive</td>\n",
       "      <td>happiness</td>\n",
       "    </tr>\n",
       "    <tr>\n",
       "      <th>2</th>\n",
       "      <td>c34567h8-90i1-1233-j141-516171819203</td>\n",
       "      <td>Spotify</td>\n",
       "      <td>a experiência no spotify é incrível  mas a qua...</td>\n",
       "      <td>positive</td>\n",
       "      <td>sadness</td>\n",
       "    </tr>\n",
       "  </tbody>\n",
       "</table>\n",
       "</div>"
      ],
      "text/plain": [
       "                               reviewId app_name  \\\n",
       "0  a12345f6-78g9-1011-h121-314151617181  YouTube   \n",
       "1  b23456g7-89h0-1122-i131-415161718192  Netflix   \n",
       "2  c34567h8-90i1-1233-j141-516171819203  Spotify   \n",
       "\n",
       "                                             content sentiment_polarity  \\\n",
       "0  a nova interface do youtube ficou confusa  as ...           negative   \n",
       "1  o catálogo da netflix é ótimo  mas a qualidade...           positive   \n",
       "2  a experiência no spotify é incrível  mas a qua...           positive   \n",
       "\n",
       "   sentiment  \n",
       "0      anger  \n",
       "1  happiness  \n",
       "2    sadness  "
      ]
     },
     "execution_count": 10,
     "metadata": {},
     "output_type": "execute_result"
    }
   ],
   "source": [
    "# Converte o texto na coluna 'content' para minúsculas\n",
    "# A função lambda é usada para garantir que cada texto na coluna seja convertido para minúsculas\n",
    "comentarios['content'] = comentarios['content'].apply(lambda x: str(x).lower())\n",
    "\n",
    "comentarios.head()"
   ]
  },
  {
   "cell_type": "markdown",
   "metadata": {},
   "source": [
    "<p style=\"color:green\">Corrigindo alguns erros de ortografia</p>"
   ]
  },
  {
   "cell_type": "code",
   "execution_count": 11,
   "metadata": {},
   "outputs": [
    {
     "data": {
      "text/html": [
       "<div>\n",
       "<style scoped>\n",
       "    .dataframe tbody tr th:only-of-type {\n",
       "        vertical-align: middle;\n",
       "    }\n",
       "\n",
       "    .dataframe tbody tr th {\n",
       "        vertical-align: top;\n",
       "    }\n",
       "\n",
       "    .dataframe thead th {\n",
       "        text-align: right;\n",
       "    }\n",
       "</style>\n",
       "<table border=\"1\" class=\"dataframe\">\n",
       "  <thead>\n",
       "    <tr style=\"text-align: right;\">\n",
       "      <th></th>\n",
       "      <th>reviewId</th>\n",
       "      <th>app_name</th>\n",
       "      <th>content</th>\n",
       "      <th>sentiment_polarity</th>\n",
       "      <th>sentiment</th>\n",
       "    </tr>\n",
       "  </thead>\n",
       "  <tbody>\n",
       "    <tr>\n",
       "      <th>0</th>\n",
       "      <td>a12345f6-78g9-1011-h121-314151617181</td>\n",
       "      <td>YouTube</td>\n",
       "      <td>a nova interface do youtube ficou confusa  as ...</td>\n",
       "      <td>negative</td>\n",
       "      <td>anger</td>\n",
       "    </tr>\n",
       "    <tr>\n",
       "      <th>1</th>\n",
       "      <td>b23456g7-89h0-1122-i131-415161718192</td>\n",
       "      <td>Netflix</td>\n",
       "      <td>o catálogo da netflix é ótimo  mas a qualidade...</td>\n",
       "      <td>positive</td>\n",
       "      <td>happiness</td>\n",
       "    </tr>\n",
       "    <tr>\n",
       "      <th>2</th>\n",
       "      <td>c34567h8-90i1-1233-j141-516171819203</td>\n",
       "      <td>Spotify</td>\n",
       "      <td>a experiência no spotify é incrível  mas a qua...</td>\n",
       "      <td>positive</td>\n",
       "      <td>sadness</td>\n",
       "    </tr>\n",
       "  </tbody>\n",
       "</table>\n",
       "</div>"
      ],
      "text/plain": [
       "                               reviewId app_name  \\\n",
       "0  a12345f6-78g9-1011-h121-314151617181  YouTube   \n",
       "1  b23456g7-89h0-1122-i131-415161718192  Netflix   \n",
       "2  c34567h8-90i1-1233-j141-516171819203  Spotify   \n",
       "\n",
       "                                             content sentiment_polarity  \\\n",
       "0  a nova interface do youtube ficou confusa  as ...           negative   \n",
       "1  o catálogo da netflix é ótimo  mas a qualidade...           positive   \n",
       "2  a experiência no spotify é incrível  mas a qua...           positive   \n",
       "\n",
       "   sentiment  \n",
       "0      anger  \n",
       "1  happiness  \n",
       "2    sadness  "
      ]
     },
     "execution_count": 11,
     "metadata": {},
     "output_type": "execute_result"
    }
   ],
   "source": [
    "comentarios.head()"
   ]
  },
  {
   "cell_type": "code",
   "execution_count": 12,
   "metadata": {},
   "outputs": [
    {
     "data": {
      "text/html": [
       "<div>\n",
       "<style scoped>\n",
       "    .dataframe tbody tr th:only-of-type {\n",
       "        vertical-align: middle;\n",
       "    }\n",
       "\n",
       "    .dataframe tbody tr th {\n",
       "        vertical-align: top;\n",
       "    }\n",
       "\n",
       "    .dataframe thead th {\n",
       "        text-align: right;\n",
       "    }\n",
       "</style>\n",
       "<table border=\"1\" class=\"dataframe\">\n",
       "  <thead>\n",
       "    <tr style=\"text-align: right;\">\n",
       "      <th></th>\n",
       "      <th>reviewId</th>\n",
       "      <th>app_name</th>\n",
       "      <th>content</th>\n",
       "      <th>sentiment_polarity</th>\n",
       "      <th>sentiment</th>\n",
       "    </tr>\n",
       "  </thead>\n",
       "  <tbody>\n",
       "    <tr>\n",
       "      <th>0</th>\n",
       "      <td>a12345f6-78g9-1011-h121-314151617181</td>\n",
       "      <td>YouTube</td>\n",
       "      <td>a nova interface do youtube ficou confusa as r...</td>\n",
       "      <td>negative</td>\n",
       "      <td>anger</td>\n",
       "    </tr>\n",
       "    <tr>\n",
       "      <th>1</th>\n",
       "      <td>b23456g7-89h0-1122-i131-415161718192</td>\n",
       "      <td>Netflix</td>\n",
       "      <td>o catálogo da netflix é ótimo mas a qualidade ...</td>\n",
       "      <td>positive</td>\n",
       "      <td>happiness</td>\n",
       "    </tr>\n",
       "    <tr>\n",
       "      <th>2</th>\n",
       "      <td>c34567h8-90i1-1233-j141-516171819203</td>\n",
       "      <td>Spotify</td>\n",
       "      <td>a experiência no spotify é incrível mas a quan...</td>\n",
       "      <td>positive</td>\n",
       "      <td>sadness</td>\n",
       "    </tr>\n",
       "  </tbody>\n",
       "</table>\n",
       "</div>"
      ],
      "text/plain": [
       "                               reviewId app_name  \\\n",
       "0  a12345f6-78g9-1011-h121-314151617181  YouTube   \n",
       "1  b23456g7-89h0-1122-i131-415161718192  Netflix   \n",
       "2  c34567h8-90i1-1233-j141-516171819203  Spotify   \n",
       "\n",
       "                                             content sentiment_polarity  \\\n",
       "0  a nova interface do youtube ficou confusa as r...           negative   \n",
       "1  o catálogo da netflix é ótimo mas a qualidade ...           positive   \n",
       "2  a experiência no spotify é incrível mas a quan...           positive   \n",
       "\n",
       "   sentiment  \n",
       "0      anger  \n",
       "1  happiness  \n",
       "2    sadness  "
      ]
     },
     "execution_count": 12,
     "metadata": {},
     "output_type": "execute_result"
    }
   ],
   "source": [
    "from spellchecker import SpellChecker\n",
    "spell = SpellChecker(language='pt')\n",
    "\n",
    "def correct_spelling(text):\n",
    "    corrected_text = []\n",
    "    words = text.split()\n",
    "    \n",
    "    for word in words:\n",
    "        # Corrige a ortografia de cada palavra usando o SpellChecker\n",
    "        corrected_word = spell.correction(word)\n",
    "        # Se 'corrected_word' for None, mantemos a palavra original\n",
    "        corrected_text.append(corrected_word if corrected_word else word)\n",
    "    \n",
    "    # Junta as palavras corrigidas em uma única string\n",
    "    return \" \".join(corrected_text)\n",
    "\n",
    "# Aplica a função 'correct_spelling' a cada elemento da coluna 'content' do DataFrame 'comentarios'\n",
    "comentarios['content'] = comentarios['content'].apply(correct_spelling)\n",
    "\n",
    "comentarios.head()"
   ]
  },
  {
   "cell_type": "markdown",
   "metadata": {},
   "source": [
    "<p style=\"color:green\">Removendo stopwords</p>"
   ]
  },
  {
   "cell_type": "code",
   "execution_count": 13,
   "metadata": {},
   "outputs": [
    {
     "name": "stderr",
     "output_type": "stream",
     "text": [
      "[nltk_data] Downloading package stopwords to\n",
      "[nltk_data]     C:\\Users\\dougl\\AppData\\Roaming\\nltk_data...\n",
      "[nltk_data]   Package stopwords is already up-to-date!\n"
     ]
    },
    {
     "data": {
      "text/html": [
       "<div>\n",
       "<style scoped>\n",
       "    .dataframe tbody tr th:only-of-type {\n",
       "        vertical-align: middle;\n",
       "    }\n",
       "\n",
       "    .dataframe tbody tr th {\n",
       "        vertical-align: top;\n",
       "    }\n",
       "\n",
       "    .dataframe thead th {\n",
       "        text-align: right;\n",
       "    }\n",
       "</style>\n",
       "<table border=\"1\" class=\"dataframe\">\n",
       "  <thead>\n",
       "    <tr style=\"text-align: right;\">\n",
       "      <th></th>\n",
       "      <th>reviewId</th>\n",
       "      <th>app_name</th>\n",
       "      <th>content</th>\n",
       "      <th>sentiment_polarity</th>\n",
       "      <th>sentiment</th>\n",
       "    </tr>\n",
       "  </thead>\n",
       "  <tbody>\n",
       "    <tr>\n",
       "      <th>0</th>\n",
       "      <td>a12345f6-78g9-1011-h121-314151617181</td>\n",
       "      <td>YouTube</td>\n",
       "      <td>nova interface youtube ficou confusa recomenda...</td>\n",
       "      <td>negative</td>\n",
       "      <td>anger</td>\n",
       "    </tr>\n",
       "    <tr>\n",
       "      <th>1</th>\n",
       "      <td>b23456g7-89h0-1122-i131-415161718192</td>\n",
       "      <td>Netflix</td>\n",
       "      <td>catálogo netflix ótimo qualidade streaming vez...</td>\n",
       "      <td>positive</td>\n",
       "      <td>happiness</td>\n",
       "    </tr>\n",
       "    <tr>\n",
       "      <th>2</th>\n",
       "      <td>c34567h8-90i1-1233-j141-516171819203</td>\n",
       "      <td>Spotify</td>\n",
       "      <td>experiência spotify incrível quantidade propag...</td>\n",
       "      <td>positive</td>\n",
       "      <td>sadness</td>\n",
       "    </tr>\n",
       "  </tbody>\n",
       "</table>\n",
       "</div>"
      ],
      "text/plain": [
       "                               reviewId app_name  \\\n",
       "0  a12345f6-78g9-1011-h121-314151617181  YouTube   \n",
       "1  b23456g7-89h0-1122-i131-415161718192  Netflix   \n",
       "2  c34567h8-90i1-1233-j141-516171819203  Spotify   \n",
       "\n",
       "                                             content sentiment_polarity  \\\n",
       "0  nova interface youtube ficou confusa recomenda...           negative   \n",
       "1  catálogo netflix ótimo qualidade streaming vez...           positive   \n",
       "2  experiência spotify incrível quantidade propag...           positive   \n",
       "\n",
       "   sentiment  \n",
       "0      anger  \n",
       "1  happiness  \n",
       "2    sadness  "
      ]
     },
     "execution_count": 13,
     "metadata": {},
     "output_type": "execute_result"
    }
   ],
   "source": [
    "import nltk\n",
    "from nltk.corpus import stopwords\n",
    "from nltk.tokenize import word_tokenize\n",
    "nltk.download('stopwords')\n",
    "\n",
    "def remove_stopwords(text):\n",
    "    # Verifica se o input é uma string. Se não for, retorna uma string vazia.\n",
    "    if not isinstance(text, str):\n",
    "        return \"\"  \n",
    "    \n",
    "    # Obtém a lista de palavras de parada (stopwords) em português\n",
    "    stops_list = stopwords.words(\"portuguese\")\n",
    "    # Adiciona a palavra \"rosto\" à lista de palavras de parada\n",
    "    stops_list.append(\"rosto\")\n",
    "    # Tokeniza o texto em palavras individuais\n",
    "    word_tokens = word_tokenize(text)\n",
    "    # Remove as palavras de parada da lista de tokens, convertendo palavras para minúsculas\n",
    "    texto_sem_stops = [w for w in word_tokens if w.lower() not in stops_list] \n",
    "    # Junta as palavras restantes em uma única string\n",
    "    return \" \".join(texto_sem_stops)\n",
    "\n",
    "# Aplica a função 'remove_stopwords' a cada elemento da coluna 'content' do DataFrame 'comentarios'\n",
    "comentarios['content'] = comentarios['content'].apply(remove_stopwords)\n",
    "\n",
    "comentarios.head()"
   ]
  },
  {
   "cell_type": "markdown",
   "metadata": {},
   "source": [
    "<p style=\"color:green\">Lematização </p>"
   ]
  },
  {
   "cell_type": "code",
   "execution_count": 14,
   "metadata": {},
   "outputs": [
    {
     "data": {
      "text/html": [
       "<div>\n",
       "<style scoped>\n",
       "    .dataframe tbody tr th:only-of-type {\n",
       "        vertical-align: middle;\n",
       "    }\n",
       "\n",
       "    .dataframe tbody tr th {\n",
       "        vertical-align: top;\n",
       "    }\n",
       "\n",
       "    .dataframe thead th {\n",
       "        text-align: right;\n",
       "    }\n",
       "</style>\n",
       "<table border=\"1\" class=\"dataframe\">\n",
       "  <thead>\n",
       "    <tr style=\"text-align: right;\">\n",
       "      <th></th>\n",
       "      <th>reviewId</th>\n",
       "      <th>app_name</th>\n",
       "      <th>content</th>\n",
       "      <th>sentiment_polarity</th>\n",
       "      <th>sentiment</th>\n",
       "    </tr>\n",
       "  </thead>\n",
       "  <tbody>\n",
       "    <tr>\n",
       "      <th>0</th>\n",
       "      <td>a12345f6-78g9-1011-h121-314151617181</td>\n",
       "      <td>YouTube</td>\n",
       "      <td>nova interface youtube ficou confusa recomenda...</td>\n",
       "      <td>negative</td>\n",
       "      <td>anger</td>\n",
       "    </tr>\n",
       "    <tr>\n",
       "      <th>1</th>\n",
       "      <td>b23456g7-89h0-1122-i131-415161718192</td>\n",
       "      <td>Netflix</td>\n",
       "      <td>catálogo netflix ótimo qualidade streaming vez...</td>\n",
       "      <td>positive</td>\n",
       "      <td>happiness</td>\n",
       "    </tr>\n",
       "    <tr>\n",
       "      <th>2</th>\n",
       "      <td>c34567h8-90i1-1233-j141-516171819203</td>\n",
       "      <td>Spotify</td>\n",
       "      <td>experiência spotify incrível quantidade propag...</td>\n",
       "      <td>positive</td>\n",
       "      <td>sadness</td>\n",
       "    </tr>\n",
       "  </tbody>\n",
       "</table>\n",
       "</div>"
      ],
      "text/plain": [
       "                               reviewId app_name  \\\n",
       "0  a12345f6-78g9-1011-h121-314151617181  YouTube   \n",
       "1  b23456g7-89h0-1122-i131-415161718192  Netflix   \n",
       "2  c34567h8-90i1-1233-j141-516171819203  Spotify   \n",
       "\n",
       "                                             content sentiment_polarity  \\\n",
       "0  nova interface youtube ficou confusa recomenda...           negative   \n",
       "1  catálogo netflix ótimo qualidade streaming vez...           positive   \n",
       "2  experiência spotify incrível quantidade propag...           positive   \n",
       "\n",
       "   sentiment  \n",
       "0      anger  \n",
       "1  happiness  \n",
       "2    sadness  "
      ]
     },
     "execution_count": 14,
     "metadata": {},
     "output_type": "execute_result"
    }
   ],
   "source": [
    "comentarios.head()"
   ]
  },
  {
   "cell_type": "code",
   "execution_count": 15,
   "metadata": {},
   "outputs": [],
   "source": [
    "import spacy\n",
    "nlp = spacy.load(\"pt_core_news_sm\")\n",
    "\n",
    "def lemmatize_text(text):\n",
    "    # Processa o texto com o modelo spaCy carregado\n",
    "    doc = nlp(text)\n",
    "    # Obtém as lemas (formas canônicas) dos tokens, excluindo palavras de parada\n",
    "    lemmatized_text = [token.lemma_ for token in doc if not token.is_stop]\n",
    "    # Junta os lemas restantes em uma única string\n",
    "    return \" \".join(lemmatized_text)\n",
    "\n",
    "# Aplica a função 'lemmatize_text' a cada elemento da coluna 'content' do DataFrame 'comentarios'\n",
    "comentarios['content'] = comentarios['content'].apply(lemmatize_text)"
   ]
  },
  {
   "cell_type": "code",
   "execution_count": 16,
   "metadata": {},
   "outputs": [
    {
     "data": {
      "text/html": [
       "<div>\n",
       "<style scoped>\n",
       "    .dataframe tbody tr th:only-of-type {\n",
       "        vertical-align: middle;\n",
       "    }\n",
       "\n",
       "    .dataframe tbody tr th {\n",
       "        vertical-align: top;\n",
       "    }\n",
       "\n",
       "    .dataframe thead th {\n",
       "        text-align: right;\n",
       "    }\n",
       "</style>\n",
       "<table border=\"1\" class=\"dataframe\">\n",
       "  <thead>\n",
       "    <tr style=\"text-align: right;\">\n",
       "      <th></th>\n",
       "      <th>reviewId</th>\n",
       "      <th>app_name</th>\n",
       "      <th>content</th>\n",
       "      <th>sentiment_polarity</th>\n",
       "      <th>sentiment</th>\n",
       "    </tr>\n",
       "  </thead>\n",
       "  <tbody>\n",
       "    <tr>\n",
       "      <th>0</th>\n",
       "      <td>a12345f6-78g9-1011-h121-314151617181</td>\n",
       "      <td>YouTube</td>\n",
       "      <td>interface Youtube ficar confusa recomendação b...</td>\n",
       "      <td>negative</td>\n",
       "      <td>anger</td>\n",
       "    </tr>\n",
       "    <tr>\n",
       "      <th>1</th>\n",
       "      <td>b23456g7-89h0-1122-i131-415161718192</td>\n",
       "      <td>Netflix</td>\n",
       "      <td>catálogo netflix bom qualidade streaming incon...</td>\n",
       "      <td>positive</td>\n",
       "      <td>happiness</td>\n",
       "    </tr>\n",
       "    <tr>\n",
       "      <th>2</th>\n",
       "      <td>c34567h8-90i1-1233-j141-516171819203</td>\n",
       "      <td>Spotify</td>\n",
       "      <td>experiência spotify incrível quantidade propag...</td>\n",
       "      <td>positive</td>\n",
       "      <td>sadness</td>\n",
       "    </tr>\n",
       "  </tbody>\n",
       "</table>\n",
       "</div>"
      ],
      "text/plain": [
       "                               reviewId app_name  \\\n",
       "0  a12345f6-78g9-1011-h121-314151617181  YouTube   \n",
       "1  b23456g7-89h0-1122-i131-415161718192  Netflix   \n",
       "2  c34567h8-90i1-1233-j141-516171819203  Spotify   \n",
       "\n",
       "                                             content sentiment_polarity  \\\n",
       "0  interface Youtube ficar confusa recomendação b...           negative   \n",
       "1  catálogo netflix bom qualidade streaming incon...           positive   \n",
       "2  experiência spotify incrível quantidade propag...           positive   \n",
       "\n",
       "   sentiment  \n",
       "0      anger  \n",
       "1  happiness  \n",
       "2    sadness  "
      ]
     },
     "execution_count": 16,
     "metadata": {},
     "output_type": "execute_result"
    }
   ],
   "source": [
    "comentarios.head()"
   ]
  },
  {
   "cell_type": "markdown",
   "metadata": {},
   "source": [
    "<p style=\"color:green\">Remove linhas que tiveram todas palavras removidas </p>"
   ]
  },
  {
   "cell_type": "code",
   "execution_count": 17,
   "metadata": {},
   "outputs": [],
   "source": [
    "# Remover linhas com valores NaN na coluna\n",
    "comentarios = comentarios.dropna(subset=['content'])"
   ]
  },
  {
   "cell_type": "markdown",
   "metadata": {},
   "source": [
    "# Salva o Dataframe pré-processado"
   ]
  },
  {
   "cell_type": "code",
   "execution_count": 18,
   "metadata": {},
   "outputs": [
    {
     "name": "stdout",
     "output_type": "stream",
     "text": [
      "Arquivo salvo como ../Data/teste_pre_processado.csv\n"
     ]
    }
   ],
   "source": [
    "def salvar_csv(df, nome_arquivo):\n",
    "    df.to_csv(nome_arquivo, index=False, encoding='utf-8')\n",
    "    print(f\"Arquivo salvo como {nome_arquivo}\")\n",
    "\n",
    "salvar_csv(comentarios, '../Data/teste_pre_processado.csv')"
   ]
  },
  {
   "cell_type": "code",
   "execution_count": 19,
   "metadata": {},
   "outputs": [
    {
     "name": "stdout",
     "output_type": "stream",
     "text": [
      "Arquivo salvo como ../Data/teste_pre_processado.csv\n"
     ]
    }
   ],
   "source": [
    "import pandas as pd\n",
    "\n",
    "# Carregando os dados do arquivo CSV pré-processado em um DataFrame do pandas\n",
    "comentarios = pd.read_csv('../Data/teste_pre_processado.csv')\n",
    "\n",
    "comentarios = comentarios.dropna(subset=['content'])\n",
    "\n",
    "salvar_csv(comentarios, '../Data/teste_pre_processado.csv')"
   ]
  }
 ],
 "metadata": {
  "kernelspec": {
   "display_name": "venv",
   "language": "python",
   "name": "python3"
  },
  "language_info": {
   "codemirror_mode": {
    "name": "ipython",
    "version": 3
   },
   "file_extension": ".py",
   "mimetype": "text/x-python",
   "name": "python",
   "nbconvert_exporter": "python",
   "pygments_lexer": "ipython3",
   "version": "3.10.11"
  }
 },
 "nbformat": 4,
 "nbformat_minor": 2
}
