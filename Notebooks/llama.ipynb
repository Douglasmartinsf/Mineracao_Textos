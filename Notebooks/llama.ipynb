{
 "cells": [
  {
   "cell_type": "markdown",
   "metadata": {},
   "source": [
    "# Carregamento dos dados"
   ]
  },
  {
   "cell_type": "code",
   "execution_count": 1,
   "metadata": {},
   "outputs": [
    {
     "data": {
      "text/html": [
       "<div>\n",
       "<style scoped>\n",
       "    .dataframe tbody tr th:only-of-type {\n",
       "        vertical-align: middle;\n",
       "    }\n",
       "\n",
       "    .dataframe tbody tr th {\n",
       "        vertical-align: top;\n",
       "    }\n",
       "\n",
       "    .dataframe thead th {\n",
       "        text-align: right;\n",
       "    }\n",
       "</style>\n",
       "<table border=\"1\" class=\"dataframe\">\n",
       "  <thead>\n",
       "    <tr style=\"text-align: right;\">\n",
       "      <th></th>\n",
       "      <th>reviewId</th>\n",
       "      <th>app_name</th>\n",
       "      <th>content</th>\n",
       "      <th>sentiment_polarity</th>\n",
       "      <th>sentiment</th>\n",
       "    </tr>\n",
       "  </thead>\n",
       "  <tbody>\n",
       "    <tr>\n",
       "      <th>0</th>\n",
       "      <td>01e23c15-44bf-46b7-b280-40e880d9d49b</td>\n",
       "      <td>Shopee</td>\n",
       "      <td>sopre razoável apesar fácil utilizar apresenta...</td>\n",
       "      <td>positive</td>\n",
       "      <td>sadness</td>\n",
       "    </tr>\n",
       "    <tr>\n",
       "      <th>1</th>\n",
       "      <td>df40ba7c-075d-48dc-b798-21466dfb41d6</td>\n",
       "      <td>Shopee</td>\n",
       "      <td>otimizar fácil visualizar produto pedido rastr...</td>\n",
       "      <td>positive</td>\n",
       "      <td>sadness</td>\n",
       "    </tr>\n",
       "    <tr>\n",
       "      <th>2</th>\n",
       "      <td>59490b23-b17b-4bba-855b-b5053dadc0db</td>\n",
       "      <td>Shopee</td>\n",
       "      <td>prático fácil entender vendedor mandar produto...</td>\n",
       "      <td>positive</td>\n",
       "      <td>sadness</td>\n",
       "    </tr>\n",
       "    <tr>\n",
       "      <th>3</th>\n",
       "      <td>48fd8168-1e42-4475-9a99-935c2fd48769</td>\n",
       "      <td>Shopee</td>\n",
       "      <td>aplicativo chatear fato pesquisar produto colo...</td>\n",
       "      <td>positive</td>\n",
       "      <td>sadness</td>\n",
       "    </tr>\n",
       "    <tr>\n",
       "      <th>4</th>\n",
       "      <td>f4e1468b-6d97-4f1a-927d-1afee2bfbe75</td>\n",
       "      <td>Shopee</td>\n",
       "      <td>ter dificuldade pagamento cartão crédito compr...</td>\n",
       "      <td>negative</td>\n",
       "      <td>disgust</td>\n",
       "    </tr>\n",
       "  </tbody>\n",
       "</table>\n",
       "</div>"
      ],
      "text/plain": [
       "                               reviewId app_name  \\\n",
       "0  01e23c15-44bf-46b7-b280-40e880d9d49b   Shopee   \n",
       "1  df40ba7c-075d-48dc-b798-21466dfb41d6   Shopee   \n",
       "2  59490b23-b17b-4bba-855b-b5053dadc0db   Shopee   \n",
       "3  48fd8168-1e42-4475-9a99-935c2fd48769   Shopee   \n",
       "4  f4e1468b-6d97-4f1a-927d-1afee2bfbe75   Shopee   \n",
       "\n",
       "                                             content sentiment_polarity  \\\n",
       "0  sopre razoável apesar fácil utilizar apresenta...           positive   \n",
       "1  otimizar fácil visualizar produto pedido rastr...           positive   \n",
       "2  prático fácil entender vendedor mandar produto...           positive   \n",
       "3  aplicativo chatear fato pesquisar produto colo...           positive   \n",
       "4  ter dificuldade pagamento cartão crédito compr...           negative   \n",
       "\n",
       "  sentiment  \n",
       "0   sadness  \n",
       "1   sadness  \n",
       "2   sadness  \n",
       "3   sadness  \n",
       "4   disgust  "
      ]
     },
     "execution_count": 1,
     "metadata": {},
     "output_type": "execute_result"
    }
   ],
   "source": [
    "import pandas as pd\n",
    "\n",
    "# Carregando os dados do arquivo CSV pré-processado em um DataFrame do pandas\n",
    "comentarios = pd.read_csv('../Data/content_pre_processado.csv')\n",
    "\n",
    "# Exibindo as primeiras 5 linhas do DataFrame para verificação\n",
    "comentarios.head(5)"
   ]
  }
 ],
 "metadata": {
  "kernelspec": {
   "display_name": "venv",
   "language": "python",
   "name": "python3"
  },
  "language_info": {
   "codemirror_mode": {
    "name": "ipython",
    "version": 3
   },
   "file_extension": ".py",
   "mimetype": "text/x-python",
   "name": "python",
   "nbconvert_exporter": "python",
   "pygments_lexer": "ipython3",
   "version": "3.10.11"
  }
 },
 "nbformat": 4,
 "nbformat_minor": 2
}
