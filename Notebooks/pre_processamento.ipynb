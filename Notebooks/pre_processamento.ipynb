{
 "cells": [
  {
   "cell_type": "markdown",
   "metadata": {},
   "source": [
    "# Carregamento dos dados"
   ]
  },
  {
   "cell_type": "code",
   "execution_count": 59,
   "metadata": {},
   "outputs": [
    {
     "data": {
      "text/plain": [
       "'Aplicativo chato vei toda hora aparece, agora quando eu tava escrevendo o anúncio apareceu 😠😡🤬🤬 aff já apareceu mais 2 vezes eu não posso fazer mais nada em meu celular que esse anúncio aparece 😠 tira logo do ar aff😡🤬🤬🤬'"
      ]
     },
     "execution_count": 59,
     "metadata": {},
     "output_type": "execute_result"
    }
   ],
   "source": [
    "import pandas as pd\n",
    "\n",
    "# Definindo o caminho para o arquivo CSV com os dados das análises de aplicativos\n",
    "file_path = '../Data/apps_reviews_validacao.xlsx - apps_reviews.csv'\n",
    "\n",
    "# Carregando os dados do arquivo CSV em um DataFrame do pandas\n",
    "# Usecols: Especifica as colunas a serem carregadas do arquivo\n",
    "# 'reviewId', 'app_name', 'content', 'sentiment_polarity', 'sentiment' são as colunas selecionadas\n",
    "# A última coluna nula é ignorada\n",
    "comentarios = pd.read_csv(file_path, usecols=['reviewId', 'app_name', 'content', 'sentiment_polarity', 'sentiment'])\n",
    "\n",
    "comentarios.loc[1665, 'content']"
   ]
  },
  {
   "cell_type": "markdown",
   "metadata": {},
   "source": [
    "# Pré-processamento"
   ]
  },
  {
   "cell_type": "markdown",
   "metadata": {},
   "source": [
    "<p style=\"color:green\">Converte emojis para texto</p>"
   ]
  },
  {
   "cell_type": "code",
   "execution_count": 60,
   "metadata": {},
   "outputs": [
    {
     "data": {
      "text/plain": [
       "'Aplicativo chato vei toda hora aparece, agora quando eu tava escrevendo o anúncio apareceu :rosto_zangado::rosto_furioso::rosto_com_símbolos_na_boca::rosto_com_símbolos_na_boca: aff já apareceu mais 2 vezes eu não posso fazer mais nada em meu celular que esse anúncio aparece :rosto_zangado: tira logo do ar aff:rosto_furioso::rosto_com_símbolos_na_boca::rosto_com_símbolos_na_boca::rosto_com_símbolos_na_boca:'"
      ]
     },
     "execution_count": 60,
     "metadata": {},
     "output_type": "execute_result"
    }
   ],
   "source": [
    "import emoji\n",
    "\n",
    "def replace_emojis(text):\n",
    "    # Converte emojis no texto para suas representações textuais usando o pacote 'emoji'\n",
    "    # 'language='pt'' especifica que a representação textual dos emojis deve estar em português\n",
    "    return emoji.demojize(text, language='pt')\n",
    "\n",
    "# Aplica a função 'replace_emojis' a cada elemento da coluna 'content' do DataFrame 'comentarios'\n",
    "# Isso substituirá todos os emojis nos textos por suas representações textuais\n",
    "comentarios['content'] = comentarios['content'].apply(replace_emojis)\n",
    "\n",
    "# Exibe o conteúdo da linha 1665 após a substituição dos emojis\n",
    "comentarios.loc[1665, 'content']"
   ]
  },
  {
   "cell_type": "markdown",
   "metadata": {},
   "source": [
    "<p style=\"color:green\">Removendo todo e qualquer caracter que não seja latino</p>"
   ]
  },
  {
   "cell_type": "code",
   "execution_count": 61,
   "metadata": {},
   "outputs": [
    {
     "data": {
      "text/plain": [
       "'Aplicativo chato vei toda hora aparece  agora quando eu tava escrevendo o anúncio apareceu  rosto zangado  rosto furioso  rosto com símbolos na boca  rosto com símbolos na boca  aff já apareceu mais   vezes eu não posso fazer mais nada em meu celular que esse anúncio aparece  rosto zangado  tira logo do ar aff rosto furioso  rosto com símbolos na boca  rosto com símbolos na boca  rosto com símbolos na boca '"
      ]
     },
     "execution_count": 61,
     "metadata": {},
     "output_type": "execute_result"
    }
   ],
   "source": [
    "import regex \n",
    "\n",
    "# Aplica uma substituição para remover caracteres não latinos do texto\n",
    "# regex.sub é usado para substituir todos os caracteres que não são letras do alfabeto latino por um espaço\n",
    "# O padrão '[^\\p{Latin}]' identifica qualquer caractere que não seja uma letra latina\n",
    "comentarios['content'] = comentarios['content'].apply(lambda x: regex.sub('[^\\p{Latin}]', u' ', str(x)))\n",
    "\n",
    "# Exibe o conteúdo da linha 1665 após a substituição dos caracteres não latinos\n",
    "comentarios.loc[1665, 'content']"
   ]
  },
  {
   "cell_type": "markdown",
   "metadata": {},
   "source": [
    "<p style=\"color:green\">Colocando todos os textos para minúsculo</p>"
   ]
  },
  {
   "cell_type": "code",
   "execution_count": 62,
   "metadata": {},
   "outputs": [
    {
     "data": {
      "text/plain": [
       "'aplicativo chato vei toda hora aparece  agora quando eu tava escrevendo o anúncio apareceu  rosto zangado  rosto furioso  rosto com símbolos na boca  rosto com símbolos na boca  aff já apareceu mais   vezes eu não posso fazer mais nada em meu celular que esse anúncio aparece  rosto zangado  tira logo do ar aff rosto furioso  rosto com símbolos na boca  rosto com símbolos na boca  rosto com símbolos na boca '"
      ]
     },
     "execution_count": 62,
     "metadata": {},
     "output_type": "execute_result"
    }
   ],
   "source": [
    "# Converte o texto na coluna 'content' para minúsculas\n",
    "# A função lambda é usada para garantir que cada texto na coluna seja convertido para minúsculas\n",
    "comentarios['content'] = comentarios['content'].apply(lambda x: str(x).lower())\n",
    "\n",
    "# Exibe o conteúdo da linha 1665 após a conversão para minúsculas\n",
    "comentarios.loc[1665, 'content']"
   ]
  },
  {
   "cell_type": "markdown",
   "metadata": {},
   "source": [
    "<p style=\"color:green\">Corrigindo alguns erros de ortografia</p>"
   ]
  },
  {
   "cell_type": "code",
   "execution_count": 63,
   "metadata": {},
   "outputs": [
    {
     "data": {
      "text/plain": [
       "'nao uzei so baixei por que travou a tela pedindo pra baixar nao concigui de outra forma se nao baixar'"
      ]
     },
     "execution_count": 63,
     "metadata": {},
     "output_type": "execute_result"
    }
   ],
   "source": [
    "comentarios.loc[1694, 'content']"
   ]
  },
  {
   "cell_type": "code",
   "execution_count": 64,
   "metadata": {},
   "outputs": [
    {
     "data": {
      "text/plain": [
       "'não usei o baixei por que travou a tela pedindo para baixar não consigui de outra forma se não baixar'"
      ]
     },
     "execution_count": 64,
     "metadata": {},
     "output_type": "execute_result"
    }
   ],
   "source": [
    "from spellchecker import SpellChecker\n",
    "spell = SpellChecker(language='pt')\n",
    "\n",
    "def correct_spelling(text):\n",
    "    corrected_text = []\n",
    "    words = text.split()\n",
    "    \n",
    "    for word in words:\n",
    "        # Corrige a ortografia de cada palavra usando o SpellChecker\n",
    "        corrected_word = spell.correction(word)\n",
    "        # Se 'corrected_word' for None, mantemos a palavra original\n",
    "        corrected_text.append(corrected_word if corrected_word else word)\n",
    "    \n",
    "    # Junta as palavras corrigidas em uma única string\n",
    "    return \" \".join(corrected_text)\n",
    "\n",
    "# Aplica a função 'correct_spelling' a cada elemento da coluna 'content' do DataFrame 'comentarios'\n",
    "comentarios['content'] = comentarios['content'].apply(correct_spelling)\n",
    "\n",
    "# Exibe o conteúdo da linha 1694 após a correção ortográfica\n",
    "comentarios.loc[1694, 'content']"
   ]
  },
  {
   "cell_type": "markdown",
   "metadata": {},
   "source": [
    "<p style=\"color:green\">Removendo stopwords</p>"
   ]
  },
  {
   "cell_type": "code",
   "execution_count": 85,
   "metadata": {},
   "outputs": [
    {
     "name": "stderr",
     "output_type": "stream",
     "text": [
      "[nltk_data] Downloading package stopwords to\n",
      "[nltk_data]     C:\\Users\\dougl\\AppData\\Roaming\\nltk_data...\n",
      "[nltk_data]   Package stopwords is already up-to-date!\n"
     ]
    },
    {
     "data": {
      "text/plain": [
       "'não usei baixei travou tela pedindo baixar não consigui outra forma não baixar'"
      ]
     },
     "execution_count": 85,
     "metadata": {},
     "output_type": "execute_result"
    }
   ],
   "source": [
    "import nltk\n",
    "from nltk.corpus import stopwords\n",
    "from nltk.tokenize import word_tokenize\n",
    "nltk.download('stopwords')\n",
    "\n",
    "def remove_stopwords(text):\n",
    "    # Verifica se o input é uma string. Se não for, retorna uma string vazia.\n",
    "    if not isinstance(text, str):\n",
    "        return \"\"  \n",
    "    \n",
    "    # Obtém a lista de palavras de parada (stopwords) em português\n",
    "    stops_list = stopwords.words(\"portuguese\")\n",
    "    # Adiciona a palavra \"rosto\" à lista de palavras de parada\n",
    "    stops_list.append(\"rosto\")\n",
    "    # Remove a palavra \"não\" da lista de palavras de parada\n",
    "    stops_list.remove(\"não\")\n",
    "    # Tokeniza o texto em palavras individuais\n",
    "    word_tokens = word_tokenize(text)\n",
    "    # Remove as palavras de parada da lista de tokens, convertendo palavras para minúsculas\n",
    "    texto_sem_stops = [w for w in word_tokens if w.lower() not in stops_list] \n",
    "    # Junta as palavras restantes em uma única string\n",
    "    return \" \".join(texto_sem_stops)\n",
    "\n",
    "# Aplica a função 'remove_stopwords' a cada elemento da coluna 'content' do DataFrame 'comentarios'\n",
    "comentarios['content'] = comentarios['content'].apply(remove_stopwords)\n",
    "\n",
    "# Exibe o conteúdo da linha 1694 após a remoção das palavras de parada\n",
    "comentarios.loc[1694, 'content']"
   ]
  },
  {
   "cell_type": "markdown",
   "metadata": {},
   "source": [
    "<p style=\"color:green\">Lematização </p>"
   ]
  },
  {
   "cell_type": "code",
   "execution_count": 86,
   "metadata": {},
   "outputs": [
    {
     "name": "stdout",
     "output_type": "stream",
     "text": [
      "ótimo amo demais agora áudios instaram silenciados todos destaques música nenhuma demorei tanto tempo escolher música colocar naqueles atores acontecer pena reclamando pé gosto demais desse jeito não dá certo\n",
      "ótima opção compra única coisa chata tudo compra entrega individual ex compra lápis loja batom outra chega tudo individual ter lugar juntar todos pedidos mesma pessoa mandar todos juntos igual concorrência ajudava gente meio ambiente penso pó não dei estrelas\n"
     ]
    }
   ],
   "source": [
    "print(comentarios.loc[1433, 'content'])\n",
    "print(comentarios.loc[76, 'content'])"
   ]
  },
  {
   "cell_type": "code",
   "execution_count": 87,
   "metadata": {},
   "outputs": [],
   "source": [
    "import spacy\n",
    "nlp = spacy.load(\"pt_core_news_sm\")\n",
    "\n",
    "def lemmatize_text(text):\n",
    "    # Processa o texto com o modelo spaCy carregado\n",
    "    doc = nlp(text)\n",
    "    # Obtém as lemas (formas canônicas) dos tokens, excluindo palavras de parada\n",
    "    lemmatized_text = [token.lemma_ for token in doc if not token.is_stop]\n",
    "    # Junta os lemas restantes em uma única string\n",
    "    return \" \".join(lemmatized_text)\n",
    "\n",
    "# Aplica a função 'lemmatize_text' a cada elemento da coluna 'content' do DataFrame 'comentarios'\n",
    "comentarios['content'] = comentarios['content'].apply(lemmatize_text)"
   ]
  },
  {
   "cell_type": "code",
   "execution_count": 88,
   "metadata": {},
   "outputs": [
    {
     "name": "stdout",
     "output_type": "stream",
     "text": [
      "bom amo áudio instar silenciar destaques música demorei escolher música colocar em aquele ator acontecer pena reclamar pé gostar jeito certo\n",
      "ótimo opção compra único chato compra entregar individual ex compra lápis loja batom chegar individual juntar pedido mesmo pessoa mandar junto igual concorrência ajudar gente ambiente pensar pó dar estrela\n"
     ]
    }
   ],
   "source": [
    "print(comentarios.loc[1433, 'content'])\n",
    "print(comentarios.loc[76, 'content'])"
   ]
  },
  {
   "cell_type": "markdown",
   "metadata": {},
   "source": [
    "# Salva o Dataframe pré-processado"
   ]
  },
  {
   "cell_type": "code",
   "execution_count": 89,
   "metadata": {},
   "outputs": [
    {
     "name": "stdout",
     "output_type": "stream",
     "text": [
      "Arquivo salvo como ../Data/content_pre_processado.csv\n"
     ]
    }
   ],
   "source": [
    "def salvar_csv(df, nome_arquivo):\n",
    "    df.to_csv(nome_arquivo, index=False, encoding='utf-8')\n",
    "    print(f\"Arquivo salvo como {nome_arquivo}\")\n",
    "\n",
    "salvar_csv(comentarios, '../Data/content_pre_processado.csv')"
   ]
  }
 ],
 "metadata": {
  "kernelspec": {
   "display_name": "venv",
   "language": "python",
   "name": "python3"
  },
  "language_info": {
   "codemirror_mode": {
    "name": "ipython",
    "version": 3
   },
   "file_extension": ".py",
   "mimetype": "text/x-python",
   "name": "python",
   "nbconvert_exporter": "python",
   "pygments_lexer": "ipython3",
   "version": "3.10.11"
  }
 },
 "nbformat": 4,
 "nbformat_minor": 2
}
