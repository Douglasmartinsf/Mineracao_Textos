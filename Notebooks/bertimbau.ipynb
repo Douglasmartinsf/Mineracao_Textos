{
 "cells": [
  {
   "cell_type": "markdown",
   "metadata": {},
   "source": [
    "# Carregamento dos dados"
   ]
  },
  {
   "cell_type": "code",
   "execution_count": 1,
   "metadata": {},
   "outputs": [
    {
     "data": {
      "text/html": [
       "<div>\n",
       "<style scoped>\n",
       "    .dataframe tbody tr th:only-of-type {\n",
       "        vertical-align: middle;\n",
       "    }\n",
       "\n",
       "    .dataframe tbody tr th {\n",
       "        vertical-align: top;\n",
       "    }\n",
       "\n",
       "    .dataframe thead th {\n",
       "        text-align: right;\n",
       "    }\n",
       "</style>\n",
       "<table border=\"1\" class=\"dataframe\">\n",
       "  <thead>\n",
       "    <tr style=\"text-align: right;\">\n",
       "      <th></th>\n",
       "      <th>reviewId</th>\n",
       "      <th>app_name</th>\n",
       "      <th>content</th>\n",
       "      <th>sentiment_polarity</th>\n",
       "      <th>sentiment</th>\n",
       "    </tr>\n",
       "  </thead>\n",
       "  <tbody>\n",
       "    <tr>\n",
       "      <th>0</th>\n",
       "      <td>01e23c15-44bf-46b7-b280-40e880d9d49b</td>\n",
       "      <td>Shopee</td>\n",
       "      <td>sopre razoável apesar fácil utilizar apresenta...</td>\n",
       "      <td>positive</td>\n",
       "      <td>sadness</td>\n",
       "    </tr>\n",
       "    <tr>\n",
       "      <th>1</th>\n",
       "      <td>df40ba7c-075d-48dc-b798-21466dfb41d6</td>\n",
       "      <td>Shopee</td>\n",
       "      <td>otimizar fácil visualizar produto pedido rastr...</td>\n",
       "      <td>positive</td>\n",
       "      <td>sadness</td>\n",
       "    </tr>\n",
       "    <tr>\n",
       "      <th>2</th>\n",
       "      <td>59490b23-b17b-4bba-855b-b5053dadc0db</td>\n",
       "      <td>Shopee</td>\n",
       "      <td>prático fácil entender vendedor mandar produto...</td>\n",
       "      <td>positive</td>\n",
       "      <td>sadness</td>\n",
       "    </tr>\n",
       "    <tr>\n",
       "      <th>3</th>\n",
       "      <td>48fd8168-1e42-4475-9a99-935c2fd48769</td>\n",
       "      <td>Shopee</td>\n",
       "      <td>aplicativo chatear fato pesquisar produto colo...</td>\n",
       "      <td>positive</td>\n",
       "      <td>sadness</td>\n",
       "    </tr>\n",
       "    <tr>\n",
       "      <th>4</th>\n",
       "      <td>f4e1468b-6d97-4f1a-927d-1afee2bfbe75</td>\n",
       "      <td>Shopee</td>\n",
       "      <td>ter dificuldade pagamento cartão crédito compr...</td>\n",
       "      <td>negative</td>\n",
       "      <td>disgust</td>\n",
       "    </tr>\n",
       "  </tbody>\n",
       "</table>\n",
       "</div>"
      ],
      "text/plain": [
       "                               reviewId app_name  \\\n",
       "0  01e23c15-44bf-46b7-b280-40e880d9d49b   Shopee   \n",
       "1  df40ba7c-075d-48dc-b798-21466dfb41d6   Shopee   \n",
       "2  59490b23-b17b-4bba-855b-b5053dadc0db   Shopee   \n",
       "3  48fd8168-1e42-4475-9a99-935c2fd48769   Shopee   \n",
       "4  f4e1468b-6d97-4f1a-927d-1afee2bfbe75   Shopee   \n",
       "\n",
       "                                             content sentiment_polarity  \\\n",
       "0  sopre razoável apesar fácil utilizar apresenta...           positive   \n",
       "1  otimizar fácil visualizar produto pedido rastr...           positive   \n",
       "2  prático fácil entender vendedor mandar produto...           positive   \n",
       "3  aplicativo chatear fato pesquisar produto colo...           positive   \n",
       "4  ter dificuldade pagamento cartão crédito compr...           negative   \n",
       "\n",
       "  sentiment  \n",
       "0   sadness  \n",
       "1   sadness  \n",
       "2   sadness  \n",
       "3   sadness  \n",
       "4   disgust  "
      ]
     },
     "execution_count": 1,
     "metadata": {},
     "output_type": "execute_result"
    }
   ],
   "source": [
    "import pandas as pd\n",
    "\n",
    "# Carregando os dados do arquivo CSV pré-processado em um DataFrame do pandas\n",
    "comentarios = pd.read_csv('../Data/content_pre_processado.csv')\n",
    "\n",
    "# Exibindo as primeiras 5 linhas do DataFrame para verificação\n",
    "comentarios.head(5)"
   ]
  },
  {
   "cell_type": "markdown",
   "metadata": {},
   "source": [
    "# BERTimbau"
   ]
  },
  {
   "cell_type": "code",
   "execution_count": 2,
   "metadata": {},
   "outputs": [
    {
     "name": "stderr",
     "output_type": "stream",
     "text": [
      "c:\\Users\\dougl\\OneDrive\\Desktop\\Mineracao_Textos\\venv\\lib\\site-packages\\tqdm\\auto.py:21: TqdmWarning: IProgress not found. Please update jupyter and ipywidgets. See https://ipywidgets.readthedocs.io/en/stable/user_install.html\n",
      "  from .autonotebook import tqdm as notebook_tqdm\n",
      "Some weights of BertForSequenceClassification were not initialized from the model checkpoint at neuralmind/bert-base-portuguese-cased and are newly initialized: ['classifier.bias', 'classifier.weight']\n",
      "You should probably TRAIN this model on a down-stream task to be able to use it for predictions and inference.\n",
      "Asking to truncate to max_length but no maximum length is provided and the model has no predefined maximum length. Default to no truncation.\n"
     ]
    },
    {
     "name": "stdout",
     "output_type": "stream",
     "text": [
      "                               reviewId app_name  \\\n",
      "0  01e23c15-44bf-46b7-b280-40e880d9d49b   Shopee   \n",
      "1  df40ba7c-075d-48dc-b798-21466dfb41d6   Shopee   \n",
      "2  59490b23-b17b-4bba-855b-b5053dadc0db   Shopee   \n",
      "3  48fd8168-1e42-4475-9a99-935c2fd48769   Shopee   \n",
      "4  f4e1468b-6d97-4f1a-927d-1afee2bfbe75   Shopee   \n",
      "\n",
      "                                             content sentiment_polarity  \\\n",
      "0  sopre razoável apesar fácil utilizar apresenta...           positive   \n",
      "1  otimizar fácil visualizar produto pedido rastr...           positive   \n",
      "2  prático fácil entender vendedor mandar produto...           positive   \n",
      "3  aplicativo chatear fato pesquisar produto colo...           positive   \n",
      "4  ter dificuldade pagamento cartão crédito compr...           negative   \n",
      "\n",
      "  sentiment  predictions  \n",
      "0   sadness            0  \n",
      "1   sadness            0  \n",
      "2   sadness            0  \n",
      "3   sadness            0  \n",
      "4   disgust            0  \n"
     ]
    }
   ],
   "source": [
    "from transformers import BertTokenizer, BertForSequenceClassification\n",
    "import torch\n",
    "import pandas as pd\n",
    "\n",
    "# Carregar o tokenizer e o modelo BERTimbau\n",
    "tokenizer = BertTokenizer.from_pretrained('neuralmind/bert-base-portuguese-cased')\n",
    "model = BertForSequenceClassification.from_pretrained('neuralmind/bert-base-portuguese-cased')\n",
    "\n",
    "# Verificar se há GPU disponível e mover o modelo para a GPU se disponível\n",
    "device = torch.device('cuda' if torch.cuda.is_available() else 'cpu')\n",
    "model.to(device)\n",
    "\n",
    "# Função para obter previsões do modelo\n",
    "def predict_sentiment(texts):\n",
    "    # Tokenizar os textos de entrada\n",
    "    encodings = tokenizer(texts, truncation=True, padding=True, return_tensors='pt')\n",
    "    \n",
    "    # Mover os tensores para o mesmo dispositivo que o modelo\n",
    "    encodings = {key: val.to(device) for key, val in encodings.items()}\n",
    "    \n",
    "    # Fazer previsões\n",
    "    with torch.no_grad():\n",
    "        outputs = model(**encodings)\n",
    "    \n",
    "    # Obter a classe predita\n",
    "    predictions = torch.argmax(outputs.logits, dim=-1)\n",
    "    \n",
    "    return predictions\n",
    "\n",
    "# Aplicar o modelo aos comentários\n",
    "texts = comentarios['content'].tolist()\n",
    "predictions = predict_sentiment(texts)\n",
    "\n",
    "# Adicionar as previsões ao DataFrame\n",
    "comentarios['predictions'] = predictions.cpu().tolist()\n",
    "\n",
    "# Exibir o DataFrame com as previsões\n",
    "print(comentarios.head())"
   ]
  },
  {
   "cell_type": "markdown",
   "metadata": {},
   "source": [
    "# Salvar arquivo com a coluna de previsões"
   ]
  },
  {
   "cell_type": "code",
   "execution_count": 3,
   "metadata": {},
   "outputs": [
    {
     "name": "stdout",
     "output_type": "stream",
     "text": [
      "Arquivo salvo como ../Data/bertimbau.csv\n"
     ]
    }
   ],
   "source": [
    "def salvar_csv(df, nome_arquivo):\n",
    "    df.to_csv(nome_arquivo, index=False, encoding='utf-8')\n",
    "    print(f\"Arquivo salvo como {nome_arquivo}\")\n",
    "\n",
    "salvar_csv(comentarios, '../Data/bertimbau.csv')"
   ]
  },
  {
   "cell_type": "markdown",
   "metadata": {},
   "source": [
    "# Avaliação dos resultados"
   ]
  },
  {
   "cell_type": "code",
   "execution_count": 18,
   "metadata": {},
   "outputs": [
    {
     "name": "stdout",
     "output_type": "stream",
     "text": [
      "\n",
      "Relatório de Classificação:\n",
      "\n",
      "              precision    recall  f1-score   support\n",
      "\n",
      "    negative       0.59      0.86      0.70      1822\n",
      "    positive       0.31      0.10      0.15      1187\n",
      "\n",
      "    accuracy                           0.56      3009\n",
      "   macro avg       0.45      0.48      0.43      3009\n",
      "weighted avg       0.48      0.56      0.48      3009\n",
      "\n"
     ]
    }
   ],
   "source": [
    "from sklearn.metrics import accuracy_score, precision_score, recall_score, f1_score, classification_report\n",
    "import pandas as pd\n",
    "\n",
    "# Extrair os rótulos verdadeiros e as previsões\n",
    "true_labels = comentarios['sentiment_polarity'].apply(lambda x: 1 if x == 'positive' else 0).tolist()\n",
    "predictions = comentarios['predictions'].tolist()\n",
    "\n",
    "# Calcular a acurácia\n",
    "accuracy = accuracy_score(true_labels, predictions)\n",
    "\n",
    "# Relatório detalhado\n",
    "report = classification_report(true_labels, predictions, target_names=['negative', 'positive'])\n",
    "print(\"\\nRelatório de Classificação:\\n\")\n",
    "print(report)"
   ]
  },
  {
   "cell_type": "code",
   "execution_count": 12,
   "metadata": {},
   "outputs": [
    {
     "data": {
      "image/png": "[encoded data removed]",
      "text/plain": [
       "<Figure size 640x480 with 1 Axes>"
      ]
     },
     "metadata": {},
     "output_type": "display_data"
    }
   ],
   "source": [
    "from sklearn.metrics import confusion_matrix\n",
    "import matplotlib.pyplot as plt\n",
    "import seaborn as sns\n",
    "import pandas as pd\n",
    "\n",
    "# Extrair os rótulos verdadeiros e as previsões\n",
    "true_labels = comentarios['sentiment_polarity'].apply(lambda x: 1 if x == 'positive' else 0).tolist()\n",
    "predictions = comentarios['predictions'].tolist()\n",
    "\n",
    "# Definir os rótulos das classes para a matriz de confusão\n",
    "sentiment_labels = ['negative', 'positive']\n",
    "\n",
    "# Calcular a matriz de confusão\n",
    "cm = confusion_matrix(true_labels, predictions, labels=[0, 1])\n",
    "\n",
    "# Criar o gráfico da matriz de confusão usando seaborn\n",
    "sns.heatmap(cm, square=True, annot=True, fmt='d', cmap='RdBu', cbar=False, \n",
    "            xticklabels=sentiment_labels,\n",
    "            yticklabels=sentiment_labels)\n",
    "\n",
    "plt.xlabel(\"Classe Real\")    # Rótulo do eixo x\n",
    "plt.ylabel(\"Classe Predita\") # Rótulo do eixo y\n",
    "plt.title(\"Matriz de Confusão\") # Título do gráfico\n",
    "plt.show() # Exibir o gráfico\n"
   ]
  }
 ],
 "metadata": {
  "kernelspec": {
   "display_name": "venv",
   "language": "python",
   "name": "python3"
  },
  "language_info": {
   "codemirror_mode": {
    "name": "ipython",
    "version": 3
   },
   "file_extension": ".py",
   "mimetype": "text/x-python",
   "name": "python",
   "nbconvert_exporter": "python",
   "pygments_lexer": "ipython3",
   "version": "3.10.11"
  }
 },
 "nbformat": 4,
 "nbformat_minor": 2
}
