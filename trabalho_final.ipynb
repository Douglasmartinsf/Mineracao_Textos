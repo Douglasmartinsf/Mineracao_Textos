{
 "cells": [
  {
   "cell_type": "markdown",
   "metadata": {},
   "source": [
    "# Carregamento dos dados"
   ]
  },
  {
   "cell_type": "code",
   "execution_count": 1,
   "metadata": {},
   "outputs": [
    {
     "data": {
      "text/html": [
       "<div>\n",
       "<style scoped>\n",
       "    .dataframe tbody tr th:only-of-type {\n",
       "        vertical-align: middle;\n",
       "    }\n",
       "\n",
       "    .dataframe tbody tr th {\n",
       "        vertical-align: top;\n",
       "    }\n",
       "\n",
       "    .dataframe thead th {\n",
       "        text-align: right;\n",
       "    }\n",
       "</style>\n",
       "<table border=\"1\" class=\"dataframe\">\n",
       "  <thead>\n",
       "    <tr style=\"text-align: right;\">\n",
       "      <th></th>\n",
       "      <th>reviewId</th>\n",
       "      <th>app_name</th>\n",
       "      <th>content</th>\n",
       "      <th>sentiment_polarity</th>\n",
       "      <th>sentiment</th>\n",
       "    </tr>\n",
       "  </thead>\n",
       "  <tbody>\n",
       "    <tr>\n",
       "      <th>0</th>\n",
       "      <td>01e23c15-44bf-46b7-b280-40e880d9d49b</td>\n",
       "      <td>Shopee</td>\n",
       "      <td>O app da Shopee é razoável. Apesar de ser fáci...</td>\n",
       "      <td>positive</td>\n",
       "      <td>sadness</td>\n",
       "    </tr>\n",
       "    <tr>\n",
       "      <th>1</th>\n",
       "      <td>df40ba7c-075d-48dc-b798-21466dfb41d6</td>\n",
       "      <td>Shopee</td>\n",
       "      <td>O app é bem otimizado, fácil de visualizar os ...</td>\n",
       "      <td>positive</td>\n",
       "      <td>sadness</td>\n",
       "    </tr>\n",
       "    <tr>\n",
       "      <th>2</th>\n",
       "      <td>59490b23-b17b-4bba-855b-b5053dadc0db</td>\n",
       "      <td>Shopee</td>\n",
       "      <td>O app é muito bom, prático e fácil de entender...</td>\n",
       "      <td>positive</td>\n",
       "      <td>sadness</td>\n",
       "    </tr>\n",
       "    <tr>\n",
       "      <th>3</th>\n",
       "      <td>48fd8168-1e42-4475-9a99-935c2fd48769</td>\n",
       "      <td>Shopee</td>\n",
       "      <td>Aplicativo muito bom. Mas algo que me chateou ...</td>\n",
       "      <td>positive</td>\n",
       "      <td>sadness</td>\n",
       "    </tr>\n",
       "    <tr>\n",
       "      <th>4</th>\n",
       "      <td>f4e1468b-6d97-4f1a-927d-1afee2bfbe75</td>\n",
       "      <td>Shopee</td>\n",
       "      <td>o app é muito bom, porém tenho tido dificuldad...</td>\n",
       "      <td>negative</td>\n",
       "      <td>disgust</td>\n",
       "    </tr>\n",
       "  </tbody>\n",
       "</table>\n",
       "</div>"
      ],
      "text/plain": [
       "                               reviewId app_name  \\\n",
       "0  01e23c15-44bf-46b7-b280-40e880d9d49b   Shopee   \n",
       "1  df40ba7c-075d-48dc-b798-21466dfb41d6   Shopee   \n",
       "2  59490b23-b17b-4bba-855b-b5053dadc0db   Shopee   \n",
       "3  48fd8168-1e42-4475-9a99-935c2fd48769   Shopee   \n",
       "4  f4e1468b-6d97-4f1a-927d-1afee2bfbe75   Shopee   \n",
       "\n",
       "                                             content sentiment_polarity  \\\n",
       "0  O app da Shopee é razoável. Apesar de ser fáci...           positive   \n",
       "1  O app é bem otimizado, fácil de visualizar os ...           positive   \n",
       "2  O app é muito bom, prático e fácil de entender...           positive   \n",
       "3  Aplicativo muito bom. Mas algo que me chateou ...           positive   \n",
       "4  o app é muito bom, porém tenho tido dificuldad...           negative   \n",
       "\n",
       "  sentiment  \n",
       "0   sadness  \n",
       "1   sadness  \n",
       "2   sadness  \n",
       "3   sadness  \n",
       "4   disgust  "
      ]
     },
     "execution_count": 1,
     "metadata": {},
     "output_type": "execute_result"
    }
   ],
   "source": [
    "import pandas as pd\n",
    "\n",
    "file_path = 'C:\\\\Users\\\\dougl\\\\OneDrive\\\\Desktop\\\\CD2\\\\apps_reviews_validacao.xlsx - apps_reviews.csv'\n",
    "comentarios = pd.read_csv(file_path, usecols=['reviewId', 'app_name', 'content', 'sentiment_polarity', 'sentiment']) # Ignorando última coluna nula.\n",
    "\n",
    "comentarios.head(5)\n"
   ]
  },
  {
   "cell_type": "code",
   "execution_count": 2,
   "metadata": {},
   "outputs": [
    {
     "data": {
      "text/html": [
       "<div>\n",
       "<style scoped>\n",
       "    .dataframe tbody tr th:only-of-type {\n",
       "        vertical-align: middle;\n",
       "    }\n",
       "\n",
       "    .dataframe tbody tr th {\n",
       "        vertical-align: top;\n",
       "    }\n",
       "\n",
       "    .dataframe thead th {\n",
       "        text-align: right;\n",
       "    }\n",
       "</style>\n",
       "<table border=\"1\" class=\"dataframe\">\n",
       "  <thead>\n",
       "    <tr style=\"text-align: right;\">\n",
       "      <th></th>\n",
       "      <th>reviewId</th>\n",
       "      <th>app_name</th>\n",
       "      <th>content</th>\n",
       "      <th>sentiment_polarity</th>\n",
       "      <th>sentiment</th>\n",
       "    </tr>\n",
       "  </thead>\n",
       "  <tbody>\n",
       "    <tr>\n",
       "      <th>count</th>\n",
       "      <td>3011</td>\n",
       "      <td>3011</td>\n",
       "      <td>3011</td>\n",
       "      <td>3011</td>\n",
       "      <td>3011</td>\n",
       "    </tr>\n",
       "    <tr>\n",
       "      <th>unique</th>\n",
       "      <td>3011</td>\n",
       "      <td>10</td>\n",
       "      <td>3011</td>\n",
       "      <td>3</td>\n",
       "      <td>7</td>\n",
       "    </tr>\n",
       "    <tr>\n",
       "      <th>top</th>\n",
       "      <td>b2ca0eda-2492-411f-b5be-e81071f52122</td>\n",
       "      <td>Shopee</td>\n",
       "      <td>O reconhecimento facial simplesmente não funci...</td>\n",
       "      <td>negative</td>\n",
       "      <td>disgust</td>\n",
       "    </tr>\n",
       "    <tr>\n",
       "      <th>freq</th>\n",
       "      <td>1</td>\n",
       "      <td>303</td>\n",
       "      <td>1</td>\n",
       "      <td>1742</td>\n",
       "      <td>952</td>\n",
       "    </tr>\n",
       "  </tbody>\n",
       "</table>\n",
       "</div>"
      ],
      "text/plain": [
       "                                    reviewId app_name  \\\n",
       "count                                   3011     3011   \n",
       "unique                                  3011       10   \n",
       "top     b2ca0eda-2492-411f-b5be-e81071f52122   Shopee   \n",
       "freq                                       1      303   \n",
       "\n",
       "                                                  content sentiment_polarity  \\\n",
       "count                                                3011               3011   \n",
       "unique                                               3011                  3   \n",
       "top     O reconhecimento facial simplesmente não funci...           negative   \n",
       "freq                                                    1               1742   \n",
       "\n",
       "       sentiment  \n",
       "count       3011  \n",
       "unique         7  \n",
       "top      disgust  \n",
       "freq         952  "
      ]
     },
     "execution_count": 2,
     "metadata": {},
     "output_type": "execute_result"
    }
   ],
   "source": [
    "comentarios.describe()"
   ]
  },
  {
   "cell_type": "code",
   "execution_count": 3,
   "metadata": {},
   "outputs": [
    {
     "data": {
      "text/plain": [
       "'o app é muito bom, porém tenho tido dificuldades para pagamento no cartão de crédito após fazer compra no pix. Eu altero o meio de pagamento porém quando chega na parte de colocar o código do cartão trava e não sai daquela área... já deixei de fazer muitas compras por conta disso. Se puderem concertar esse bug séria ótimo para nós consumidores.'"
      ]
     },
     "execution_count": 3,
     "metadata": {},
     "output_type": "execute_result"
    }
   ],
   "source": [
    "comentarios.loc[4, 'content']"
   ]
  },
  {
   "cell_type": "markdown",
   "metadata": {},
   "source": [
    "# Pré-processamento"
   ]
  },
  {
   "cell_type": "markdown",
   "metadata": {},
   "source": [
    "<p style=\"color:green\">Removendo todo e qualquer caracter que não seja latino</p>"
   ]
  },
  {
   "cell_type": "code",
   "execution_count": 4,
   "metadata": {},
   "outputs": [],
   "source": [
    "import regex \n",
    "\n",
    "comentarios['content'] = comentarios['content'].apply(lambda x: regex.sub('[^\\p{Latin}]', u' ', str(x)))"
   ]
  },
  {
   "cell_type": "code",
   "execution_count": 5,
   "metadata": {},
   "outputs": [
    {
     "data": {
      "text/plain": [
       "'o app é muito bom  porém tenho tido dificuldades para pagamento no cartão de crédito após fazer compra no pix  Eu altero o meio de pagamento porém quando chega na parte de colocar o código do cartão trava e não sai daquela área    já deixei de fazer muitas compras por conta disso  Se puderem concertar esse bug séria ótimo para nós consumidores '"
      ]
     },
     "execution_count": 5,
     "metadata": {},
     "output_type": "execute_result"
    }
   ],
   "source": [
    "comentarios.loc[4, 'content']"
   ]
  },
  {
   "cell_type": "markdown",
   "metadata": {},
   "source": [
    "<p style=\"color:green\">Colocando todos os textos para minúsculo</p>"
   ]
  },
  {
   "cell_type": "code",
   "execution_count": 6,
   "metadata": {},
   "outputs": [],
   "source": [
    "comentarios['content'] = comentarios['content'].apply(lambda x: str(x).lower())"
   ]
  },
  {
   "cell_type": "code",
   "execution_count": 7,
   "metadata": {},
   "outputs": [
    {
     "data": {
      "text/plain": [
       "'o app é muito bom  porém tenho tido dificuldades para pagamento no cartão de crédito após fazer compra no pix  eu altero o meio de pagamento porém quando chega na parte de colocar o código do cartão trava e não sai daquela área    já deixei de fazer muitas compras por conta disso  se puderem concertar esse bug séria ótimo para nós consumidores '"
      ]
     },
     "execution_count": 7,
     "metadata": {},
     "output_type": "execute_result"
    }
   ],
   "source": [
    "comentarios.loc[4, 'content']"
   ]
  },
  {
   "cell_type": "markdown",
   "metadata": {},
   "source": [
    "<p style=\"color:green\">Função para remover stopwords mais facilmente no datafreme</p>"
   ]
  },
  {
   "cell_type": "code",
   "execution_count": 8,
   "metadata": {},
   "outputs": [
    {
     "name": "stderr",
     "output_type": "stream",
     "text": [
      "[nltk_data] Downloading package stopwords to\n",
      "[nltk_data]     C:\\Users\\dougl\\AppData\\Roaming\\nltk_data...\n",
      "[nltk_data]   Package stopwords is already up-to-date!\n",
      "[nltk_data] Downloading package punkt to\n",
      "[nltk_data]     C:\\Users\\dougl\\AppData\\Roaming\\nltk_data...\n",
      "[nltk_data]   Package punkt is already up-to-date!\n"
     ]
    }
   ],
   "source": [
    "import nltk \n",
    "from nltk.corpus import stopwords\n",
    "from nltk.tokenize import word_tokenize\n",
    "\n",
    "nltk.download('stopwords')\n",
    "nltk.download('punkt')\n",
    "\n",
    "def remove_stopwords(texto):\n",
    "    stops_list = stopwords.words(\"portuguese\")\n",
    "    word_tokens = word_tokenize(texto)\n",
    "    texto_sem_stops = [w for w in word_tokens if w not in stops_list]\n",
    "    return \" \".join(texto_sem_stops)"
   ]
  },
  {
   "cell_type": "markdown",
   "metadata": {},
   "source": [
    "<p style=\"color:green\">Remover stopwords usando a função definida acima</p>"
   ]
  },
  {
   "cell_type": "code",
   "execution_count": 9,
   "metadata": {},
   "outputs": [],
   "source": [
    "comentarios['content'] = comentarios['content'].apply(remove_stopwords)"
   ]
  },
  {
   "cell_type": "code",
   "execution_count": 10,
   "metadata": {},
   "outputs": [
    {
     "data": {
      "text/plain": [
       "'app bom porém tido dificuldades pagamento cartão crédito após fazer compra pix altero meio pagamento porém chega parte colocar código cartão trava sai daquela área deixei fazer muitas compras conta disso puderem concertar bug séria ótimo consumidores'"
      ]
     },
     "execution_count": 10,
     "metadata": {},
     "output_type": "execute_result"
    }
   ],
   "source": [
    "comentarios.loc[4, 'content']"
   ]
  },
  {
   "cell_type": "markdown",
   "metadata": {},
   "source": [
    "# Extração da features (representação de texto em formato vetorial)"
   ]
  },
  {
   "cell_type": "markdown",
   "metadata": {},
   "source": [
    "<p style=\"color:green\">A seguir, faremos a instanciação do método que fará a representação do texto usando o modelo TF-IDF.</p> "
   ]
  },
  {
   "cell_type": "code",
   "execution_count": 11,
   "metadata": {},
   "outputs": [],
   "source": [
    "from sklearn.feature_extraction.text import TfidfVectorizer\n",
    "tfidf_vectorizer = TfidfVectorizer()"
   ]
  },
  {
   "cell_type": "code",
   "execution_count": 12,
   "metadata": {},
   "outputs": [],
   "source": [
    "tfidf_matrix = tfidf_vectorizer.fit_transform(comentarios['content'])"
   ]
  },
  {
   "cell_type": "code",
   "execution_count": 13,
   "metadata": {},
   "outputs": [
    {
     "data": {
      "text/html": [
       "<div>\n",
       "<style scoped>\n",
       "    .dataframe tbody tr th:only-of-type {\n",
       "        vertical-align: middle;\n",
       "    }\n",
       "\n",
       "    .dataframe tbody tr th {\n",
       "        vertical-align: top;\n",
       "    }\n",
       "\n",
       "    .dataframe thead th {\n",
       "        text-align: right;\n",
       "    }\n",
       "</style>\n",
       "<table border=\"1\" class=\"dataframe\">\n",
       "  <thead>\n",
       "    <tr style=\"text-align: right;\">\n",
       "      <th></th>\n",
       "      <th>aap</th>\n",
       "      <th>aba</th>\n",
       "      <th>abaixa</th>\n",
       "      <th>abaixada</th>\n",
       "      <th>abaixado</th>\n",
       "      <th>abaixar</th>\n",
       "      <th>abaixaram</th>\n",
       "      <th>abaixe</th>\n",
       "      <th>abaixei</th>\n",
       "      <th>abaixem</th>\n",
       "      <th>...</th>\n",
       "      <th>últimamente</th>\n",
       "      <th>últimas</th>\n",
       "      <th>último</th>\n",
       "      <th>últimos</th>\n",
       "      <th>única</th>\n",
       "      <th>únicas</th>\n",
       "      <th>único</th>\n",
       "      <th>únicos</th>\n",
       "      <th>úteis</th>\n",
       "      <th>útil</th>\n",
       "    </tr>\n",
       "  </thead>\n",
       "  <tbody>\n",
       "    <tr>\n",
       "      <th>0</th>\n",
       "      <td>0.0</td>\n",
       "      <td>0.0</td>\n",
       "      <td>0.0</td>\n",
       "      <td>0.0</td>\n",
       "      <td>0.0</td>\n",
       "      <td>0.0</td>\n",
       "      <td>0.0</td>\n",
       "      <td>0.0</td>\n",
       "      <td>0.0</td>\n",
       "      <td>0.0</td>\n",
       "      <td>...</td>\n",
       "      <td>0.0</td>\n",
       "      <td>0.0</td>\n",
       "      <td>0.0</td>\n",
       "      <td>0.0</td>\n",
       "      <td>0.0</td>\n",
       "      <td>0.0</td>\n",
       "      <td>0.0</td>\n",
       "      <td>0.0</td>\n",
       "      <td>0.0</td>\n",
       "      <td>0.0</td>\n",
       "    </tr>\n",
       "    <tr>\n",
       "      <th>1</th>\n",
       "      <td>0.0</td>\n",
       "      <td>0.0</td>\n",
       "      <td>0.0</td>\n",
       "      <td>0.0</td>\n",
       "      <td>0.0</td>\n",
       "      <td>0.0</td>\n",
       "      <td>0.0</td>\n",
       "      <td>0.0</td>\n",
       "      <td>0.0</td>\n",
       "      <td>0.0</td>\n",
       "      <td>...</td>\n",
       "      <td>0.0</td>\n",
       "      <td>0.0</td>\n",
       "      <td>0.0</td>\n",
       "      <td>0.0</td>\n",
       "      <td>0.0</td>\n",
       "      <td>0.0</td>\n",
       "      <td>0.0</td>\n",
       "      <td>0.0</td>\n",
       "      <td>0.0</td>\n",
       "      <td>0.0</td>\n",
       "    </tr>\n",
       "    <tr>\n",
       "      <th>2</th>\n",
       "      <td>0.0</td>\n",
       "      <td>0.0</td>\n",
       "      <td>0.0</td>\n",
       "      <td>0.0</td>\n",
       "      <td>0.0</td>\n",
       "      <td>0.0</td>\n",
       "      <td>0.0</td>\n",
       "      <td>0.0</td>\n",
       "      <td>0.0</td>\n",
       "      <td>0.0</td>\n",
       "      <td>...</td>\n",
       "      <td>0.0</td>\n",
       "      <td>0.0</td>\n",
       "      <td>0.0</td>\n",
       "      <td>0.0</td>\n",
       "      <td>0.0</td>\n",
       "      <td>0.0</td>\n",
       "      <td>0.0</td>\n",
       "      <td>0.0</td>\n",
       "      <td>0.0</td>\n",
       "      <td>0.0</td>\n",
       "    </tr>\n",
       "    <tr>\n",
       "      <th>3</th>\n",
       "      <td>0.0</td>\n",
       "      <td>0.0</td>\n",
       "      <td>0.0</td>\n",
       "      <td>0.0</td>\n",
       "      <td>0.0</td>\n",
       "      <td>0.0</td>\n",
       "      <td>0.0</td>\n",
       "      <td>0.0</td>\n",
       "      <td>0.0</td>\n",
       "      <td>0.0</td>\n",
       "      <td>...</td>\n",
       "      <td>0.0</td>\n",
       "      <td>0.0</td>\n",
       "      <td>0.0</td>\n",
       "      <td>0.0</td>\n",
       "      <td>0.0</td>\n",
       "      <td>0.0</td>\n",
       "      <td>0.0</td>\n",
       "      <td>0.0</td>\n",
       "      <td>0.0</td>\n",
       "      <td>0.0</td>\n",
       "    </tr>\n",
       "    <tr>\n",
       "      <th>4</th>\n",
       "      <td>0.0</td>\n",
       "      <td>0.0</td>\n",
       "      <td>0.0</td>\n",
       "      <td>0.0</td>\n",
       "      <td>0.0</td>\n",
       "      <td>0.0</td>\n",
       "      <td>0.0</td>\n",
       "      <td>0.0</td>\n",
       "      <td>0.0</td>\n",
       "      <td>0.0</td>\n",
       "      <td>...</td>\n",
       "      <td>0.0</td>\n",
       "      <td>0.0</td>\n",
       "      <td>0.0</td>\n",
       "      <td>0.0</td>\n",
       "      <td>0.0</td>\n",
       "      <td>0.0</td>\n",
       "      <td>0.0</td>\n",
       "      <td>0.0</td>\n",
       "      <td>0.0</td>\n",
       "      <td>0.0</td>\n",
       "    </tr>\n",
       "    <tr>\n",
       "      <th>...</th>\n",
       "      <td>...</td>\n",
       "      <td>...</td>\n",
       "      <td>...</td>\n",
       "      <td>...</td>\n",
       "      <td>...</td>\n",
       "      <td>...</td>\n",
       "      <td>...</td>\n",
       "      <td>...</td>\n",
       "      <td>...</td>\n",
       "      <td>...</td>\n",
       "      <td>...</td>\n",
       "      <td>...</td>\n",
       "      <td>...</td>\n",
       "      <td>...</td>\n",
       "      <td>...</td>\n",
       "      <td>...</td>\n",
       "      <td>...</td>\n",
       "      <td>...</td>\n",
       "      <td>...</td>\n",
       "      <td>...</td>\n",
       "      <td>...</td>\n",
       "    </tr>\n",
       "    <tr>\n",
       "      <th>3006</th>\n",
       "      <td>0.0</td>\n",
       "      <td>0.0</td>\n",
       "      <td>0.0</td>\n",
       "      <td>0.0</td>\n",
       "      <td>0.0</td>\n",
       "      <td>0.0</td>\n",
       "      <td>0.0</td>\n",
       "      <td>0.0</td>\n",
       "      <td>0.0</td>\n",
       "      <td>0.0</td>\n",
       "      <td>...</td>\n",
       "      <td>0.0</td>\n",
       "      <td>0.0</td>\n",
       "      <td>0.0</td>\n",
       "      <td>0.0</td>\n",
       "      <td>0.0</td>\n",
       "      <td>0.0</td>\n",
       "      <td>0.0</td>\n",
       "      <td>0.0</td>\n",
       "      <td>0.0</td>\n",
       "      <td>0.0</td>\n",
       "    </tr>\n",
       "    <tr>\n",
       "      <th>3007</th>\n",
       "      <td>0.0</td>\n",
       "      <td>0.0</td>\n",
       "      <td>0.0</td>\n",
       "      <td>0.0</td>\n",
       "      <td>0.0</td>\n",
       "      <td>0.0</td>\n",
       "      <td>0.0</td>\n",
       "      <td>0.0</td>\n",
       "      <td>0.0</td>\n",
       "      <td>0.0</td>\n",
       "      <td>...</td>\n",
       "      <td>0.0</td>\n",
       "      <td>0.0</td>\n",
       "      <td>0.0</td>\n",
       "      <td>0.0</td>\n",
       "      <td>0.0</td>\n",
       "      <td>0.0</td>\n",
       "      <td>0.0</td>\n",
       "      <td>0.0</td>\n",
       "      <td>0.0</td>\n",
       "      <td>0.0</td>\n",
       "    </tr>\n",
       "    <tr>\n",
       "      <th>3008</th>\n",
       "      <td>0.0</td>\n",
       "      <td>0.0</td>\n",
       "      <td>0.0</td>\n",
       "      <td>0.0</td>\n",
       "      <td>0.0</td>\n",
       "      <td>0.0</td>\n",
       "      <td>0.0</td>\n",
       "      <td>0.0</td>\n",
       "      <td>0.0</td>\n",
       "      <td>0.0</td>\n",
       "      <td>...</td>\n",
       "      <td>0.0</td>\n",
       "      <td>0.0</td>\n",
       "      <td>0.0</td>\n",
       "      <td>0.0</td>\n",
       "      <td>0.0</td>\n",
       "      <td>0.0</td>\n",
       "      <td>0.0</td>\n",
       "      <td>0.0</td>\n",
       "      <td>0.0</td>\n",
       "      <td>0.0</td>\n",
       "    </tr>\n",
       "    <tr>\n",
       "      <th>3009</th>\n",
       "      <td>0.0</td>\n",
       "      <td>0.0</td>\n",
       "      <td>0.0</td>\n",
       "      <td>0.0</td>\n",
       "      <td>0.0</td>\n",
       "      <td>0.0</td>\n",
       "      <td>0.0</td>\n",
       "      <td>0.0</td>\n",
       "      <td>0.0</td>\n",
       "      <td>0.0</td>\n",
       "      <td>...</td>\n",
       "      <td>0.0</td>\n",
       "      <td>0.0</td>\n",
       "      <td>0.0</td>\n",
       "      <td>0.0</td>\n",
       "      <td>0.0</td>\n",
       "      <td>0.0</td>\n",
       "      <td>0.0</td>\n",
       "      <td>0.0</td>\n",
       "      <td>0.0</td>\n",
       "      <td>0.0</td>\n",
       "    </tr>\n",
       "    <tr>\n",
       "      <th>3010</th>\n",
       "      <td>0.0</td>\n",
       "      <td>0.0</td>\n",
       "      <td>0.0</td>\n",
       "      <td>0.0</td>\n",
       "      <td>0.0</td>\n",
       "      <td>0.0</td>\n",
       "      <td>0.0</td>\n",
       "      <td>0.0</td>\n",
       "      <td>0.0</td>\n",
       "      <td>0.0</td>\n",
       "      <td>...</td>\n",
       "      <td>0.0</td>\n",
       "      <td>0.0</td>\n",
       "      <td>0.0</td>\n",
       "      <td>0.0</td>\n",
       "      <td>0.0</td>\n",
       "      <td>0.0</td>\n",
       "      <td>0.0</td>\n",
       "      <td>0.0</td>\n",
       "      <td>0.0</td>\n",
       "      <td>0.0</td>\n",
       "    </tr>\n",
       "  </tbody>\n",
       "</table>\n",
       "<p>3011 rows × 8845 columns</p>\n",
       "</div>"
      ],
      "text/plain": [
       "      aap  aba  abaixa  abaixada  abaixado  abaixar  abaixaram  abaixe  \\\n",
       "0     0.0  0.0     0.0       0.0       0.0      0.0        0.0     0.0   \n",
       "1     0.0  0.0     0.0       0.0       0.0      0.0        0.0     0.0   \n",
       "2     0.0  0.0     0.0       0.0       0.0      0.0        0.0     0.0   \n",
       "3     0.0  0.0     0.0       0.0       0.0      0.0        0.0     0.0   \n",
       "4     0.0  0.0     0.0       0.0       0.0      0.0        0.0     0.0   \n",
       "...   ...  ...     ...       ...       ...      ...        ...     ...   \n",
       "3006  0.0  0.0     0.0       0.0       0.0      0.0        0.0     0.0   \n",
       "3007  0.0  0.0     0.0       0.0       0.0      0.0        0.0     0.0   \n",
       "3008  0.0  0.0     0.0       0.0       0.0      0.0        0.0     0.0   \n",
       "3009  0.0  0.0     0.0       0.0       0.0      0.0        0.0     0.0   \n",
       "3010  0.0  0.0     0.0       0.0       0.0      0.0        0.0     0.0   \n",
       "\n",
       "      abaixei  abaixem  ...  últimamente  últimas  último  últimos  única  \\\n",
       "0         0.0      0.0  ...          0.0      0.0     0.0      0.0    0.0   \n",
       "1         0.0      0.0  ...          0.0      0.0     0.0      0.0    0.0   \n",
       "2         0.0      0.0  ...          0.0      0.0     0.0      0.0    0.0   \n",
       "3         0.0      0.0  ...          0.0      0.0     0.0      0.0    0.0   \n",
       "4         0.0      0.0  ...          0.0      0.0     0.0      0.0    0.0   \n",
       "...       ...      ...  ...          ...      ...     ...      ...    ...   \n",
       "3006      0.0      0.0  ...          0.0      0.0     0.0      0.0    0.0   \n",
       "3007      0.0      0.0  ...          0.0      0.0     0.0      0.0    0.0   \n",
       "3008      0.0      0.0  ...          0.0      0.0     0.0      0.0    0.0   \n",
       "3009      0.0      0.0  ...          0.0      0.0     0.0      0.0    0.0   \n",
       "3010      0.0      0.0  ...          0.0      0.0     0.0      0.0    0.0   \n",
       "\n",
       "      únicas  único  únicos  úteis  útil  \n",
       "0        0.0    0.0     0.0    0.0   0.0  \n",
       "1        0.0    0.0     0.0    0.0   0.0  \n",
       "2        0.0    0.0     0.0    0.0   0.0  \n",
       "3        0.0    0.0     0.0    0.0   0.0  \n",
       "4        0.0    0.0     0.0    0.0   0.0  \n",
       "...      ...    ...     ...    ...   ...  \n",
       "3006     0.0    0.0     0.0    0.0   0.0  \n",
       "3007     0.0    0.0     0.0    0.0   0.0  \n",
       "3008     0.0    0.0     0.0    0.0   0.0  \n",
       "3009     0.0    0.0     0.0    0.0   0.0  \n",
       "3010     0.0    0.0     0.0    0.0   0.0  \n",
       "\n",
       "[3011 rows x 8845 columns]"
      ]
     },
     "execution_count": 13,
     "metadata": {},
     "output_type": "execute_result"
    }
   ],
   "source": [
    "tfidf_df = pd.DataFrame(tfidf_matrix.toarray(), columns=tfidf_vectorizer.get_feature_names_out())\n",
    "tfidf_df"
   ]
  },
  {
   "cell_type": "markdown",
   "metadata": {},
   "source": [
    "<p style=\"color:green\">Conferir se as linhas contém valores diferentes de zero.</p> "
   ]
  },
  {
   "cell_type": "code",
   "execution_count": 14,
   "metadata": {},
   "outputs": [
    {
     "data": {
      "text/plain": [
       "0    44\n",
       "1    38\n",
       "2    33\n",
       "3    41\n",
       "4    33\n",
       "dtype: int64"
      ]
     },
     "execution_count": 14,
     "metadata": {},
     "output_type": "execute_result"
    }
   ],
   "source": [
    "non_zero_counts = (tfidf_df != 0).sum(axis=1)\n",
    "non_zero_counts.head()\n"
   ]
  },
  {
   "cell_type": "markdown",
   "metadata": {},
   "source": [
    "# Treinamento e teste"
   ]
  },
  {
   "cell_type": "markdown",
   "metadata": {},
   "source": [
    "<p style=\"color:green\">Aqui vamos estimar a performance do classificador utilizando uma subdivisão nos dados. Vamos dividir os dados (tfidf_df) em um conjunto de teste e outro treinamento. </p>"
   ]
  },
  {
   "cell_type": "code",
   "execution_count": 15,
   "metadata": {},
   "outputs": [],
   "source": [
    "categorias = comentarios[['sentiment_polarity', 'sentiment']]"
   ]
  },
  {
   "cell_type": "code",
   "execution_count": 16,
   "metadata": {},
   "outputs": [],
   "source": [
    "from sklearn.model_selection import train_test_split\n",
    "\n",
    "X_train, X_test, y_train, y_test = train_test_split(tfidf_df, categorias, test_size=0.2) #20% para teste.\n",
    "\n",
    "y_train_polarity = y_train['sentiment_polarity']\n",
    "y_test_polarity = y_test['sentiment_polarity']\n",
    "y_train_sentiment = y_train['sentiment']\n",
    "y_test_sentiment = y_test['sentiment']"
   ]
  },
  {
   "cell_type": "code",
   "execution_count": 17,
   "metadata": {},
   "outputs": [],
   "source": [
    "from sklearn.preprocessing import LabelEncoder\n",
    "\n",
    "le_polarity = LabelEncoder()\n",
    "y_train_polarity_encoded = le_polarity.fit_transform(y_train_polarity)\n",
    "y_test_polarity_encoded = le_polarity.transform(y_test_polarity)"
   ]
  },
  {
   "cell_type": "code",
   "execution_count": 18,
   "metadata": {},
   "outputs": [],
   "source": [
    "\n",
    "from sklearn.naive_bayes import MultinomialNB\n",
    "\n",
    "naive_bayes_polarity = MultinomialNB()\n",
    "naive_bayes_sentiment = MultinomialNB()\n",
    "\n",
    "naive_bayes_polarity.fit(X_train, y_train_polarity_encoded)\n",
    "naive_bayes_sentiment.fit(X_train, y_train_sentiment)\n",
    "\n",
    "predicoes_polarity_encoded = naive_bayes_polarity.predict(X_test)\n",
    "predicoes_sentiment = naive_bayes_sentiment.predict(X_test)\n",
    "\n",
    "predicoes_polarity = le_polarity.inverse_transform(predicoes_polarity_encoded)"
   ]
  },
  {
   "cell_type": "code",
   "execution_count": 19,
   "metadata": {},
   "outputs": [
    {
     "name": "stdout",
     "output_type": "stream",
     "text": [
      "Avaliação para 'sentiment_polarity':\n",
      "Mean Squared Error: 0.6119402985074627\n",
      "\n",
      "Avaliação para 'sentiment':\n",
      "              precision    recall  f1-score   support\n",
      "\n",
      "       anger       0.67      0.29      0.40       156\n",
      "     disgust       0.52      0.69      0.59       203\n",
      "        fear       0.00      0.00      0.00         7\n",
      "   happiness       0.00      0.00      0.00        58\n",
      "     neutral       0.00      0.00      0.00        21\n",
      "     sadness       0.49      0.83      0.62       157\n",
      "    surprise       0.00      0.00      0.00         1\n",
      "\n",
      "    accuracy                           0.52       603\n",
      "   macro avg       0.24      0.26      0.23       603\n",
      "weighted avg       0.48      0.52      0.47       603\n",
      "\n"
     ]
    },
    {
     "name": "stderr",
     "output_type": "stream",
     "text": [
      "c:\\Users\\dougl\\OneDrive\\Desktop\\CD2\\venv\\lib\\site-packages\\sklearn\\metrics\\_classification.py:1531: UndefinedMetricWarning: Precision is ill-defined and being set to 0.0 in labels with no predicted samples. Use `zero_division` parameter to control this behavior.\n",
      "  _warn_prf(average, modifier, f\"{metric.capitalize()} is\", len(result))\n",
      "c:\\Users\\dougl\\OneDrive\\Desktop\\CD2\\venv\\lib\\site-packages\\sklearn\\metrics\\_classification.py:1531: UndefinedMetricWarning: Precision is ill-defined and being set to 0.0 in labels with no predicted samples. Use `zero_division` parameter to control this behavior.\n",
      "  _warn_prf(average, modifier, f\"{metric.capitalize()} is\", len(result))\n",
      "c:\\Users\\dougl\\OneDrive\\Desktop\\CD2\\venv\\lib\\site-packages\\sklearn\\metrics\\_classification.py:1531: UndefinedMetricWarning: Precision is ill-defined and being set to 0.0 in labels with no predicted samples. Use `zero_division` parameter to control this behavior.\n",
      "  _warn_prf(average, modifier, f\"{metric.capitalize()} is\", len(result))\n"
     ]
    }
   ],
   "source": [
    "from sklearn.metrics import classification_report, mean_squared_error\n",
    "\n",
    "print(\"Avaliação para 'sentiment_polarity':\")\n",
    "print(\"Mean Squared Error:\", mean_squared_error(y_test_polarity_encoded, predicoes_polarity_encoded))\n",
    "\n",
    "print(\"\\nAvaliação para 'sentiment':\")\n",
    "print(classification_report(y_test_sentiment, predicoes_sentiment))"
   ]
  },
  {
   "cell_type": "code",
   "execution_count": 23,
   "metadata": {},
   "outputs": [
    {
     "data": {
      "image/png": "[encoded data removed]",
      "text/plain": [
       "<Figure size 640x480 with 1 Axes>"
      ]
     },
     "metadata": {},
     "output_type": "display_data"
    }
   ],
   "source": [
    "from sklearn.metrics import confusion_matrix\n",
    "import matplotlib.pyplot as plt\n",
    "import seaborn as sns\n",
    "\n",
    "sentiment_labels = comentarios['sentiment'].unique()\n",
    "\n",
    "cm = confusion_matrix(y_test_sentiment, predicoes_sentiment, labels=sentiment_labels)\n",
    "\n",
    "sns.heatmap(cm, square=True, annot=True, cmap='RdBu', cbar=False, \n",
    "            xticklabels=sentiment_labels,\n",
    "            yticklabels=sentiment_labels)\n",
    "\n",
    "plt.xlabel(\"Classe real\")\n",
    "plt.ylabel(\"Classe predita\")\n",
    "plt.title(\"Matriz de Confusão\")\n",
    "plt.show()\n"
   ]
  }
 ],
 "metadata": {
  "kernelspec": {
   "display_name": "venv",
   "language": "python",
   "name": "python3"
  },
  "language_info": {
   "codemirror_mode": {
    "name": "ipython",
    "version": 3
   },
   "file_extension": ".py",
   "mimetype": "text/x-python",
   "name": "python",
   "nbconvert_exporter": "python",
   "pygments_lexer": "ipython3",
   "version": "3.10.11"
  }
 },
 "nbformat": 4,
 "nbformat_minor": 2
}
